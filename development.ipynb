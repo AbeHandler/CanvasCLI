{
 "cells": [
  {
   "cell_type": "code",
   "execution_count": 1,
   "id": "96551e2e",
   "metadata": {},
   "outputs": [],
   "source": [
    "%load_ext autoreload\n",
    "\n",
    "%autoreload 2"
   ]
  },
  {
   "cell_type": "code",
   "execution_count": 3,
   "id": "de0466a9",
   "metadata": {},
   "outputs": [
    {
     "ename": "AttributeError",
     "evalue": "'Course' object has no attribute 'get_assignment_by_id'",
     "output_type": "error",
     "traceback": [
      "\u001b[0;31m---------------------------------------------------------------------------\u001b[0m",
      "\u001b[0;31mAttributeError\u001b[0m                            Traceback (most recent call last)",
      "Input \u001b[0;32mIn [3]\u001b[0m, in \u001b[0;36m<cell line: 24>\u001b[0;34m()\u001b[0m\n\u001b[1;32m     20\u001b[0m PATH_TO_INI \u001b[38;5;241m=\u001b[39m \u001b[38;5;124m\"\u001b[39m\u001b[38;5;124m/Users/abe/CanvasCLI/3220S2023.ini\u001b[39m\u001b[38;5;124m\"\u001b[39m\n\u001b[1;32m     22\u001b[0m course \u001b[38;5;241m=\u001b[39m get_course_from_ini(PATH_TO_INI)\n\u001b[0;32m---> 24\u001b[0m assignment \u001b[38;5;241m=\u001b[39m \u001b[43mcourse\u001b[49m\u001b[38;5;241;43m.\u001b[39;49m\u001b[43mget_assignments_in_group\u001b[49m\u001b[43m(\u001b[49m\u001b[38;5;124;43m\"\u001b[39;49m\u001b[38;5;124;43mExercises\u001b[39;49m\u001b[38;5;124;43m\"\u001b[39;49m\u001b[43m)\u001b[49m\n\u001b[1;32m     25\u001b[0m assignment_one \u001b[38;5;241m=\u001b[39m assignment[\u001b[38;5;241m0\u001b[39m]\n\u001b[1;32m     26\u001b[0m \u001b[38;5;28;01mfrom\u001b[39;00m \u001b[38;5;21;01msrc\u001b[39;00m\u001b[38;5;21;01m.\u001b[39;00m\u001b[38;5;21;01massignment\u001b[39;00m \u001b[38;5;28;01mimport\u001b[39;00m Assignment\n",
      "File \u001b[0;32m~/CanvasCLI/src/course.py:41\u001b[0m, in \u001b[0;36mCourse.get_assignments_in_group\u001b[0;34m(self, assignment_group)\u001b[0m\n\u001b[1;32m     39\u001b[0m out \u001b[38;5;241m=\u001b[39m []\n\u001b[1;32m     40\u001b[0m \u001b[38;5;28;01mfor\u001b[39;00m j \u001b[38;5;129;01min\u001b[39;00m \u001b[38;5;28mself\u001b[39m\u001b[38;5;241m.\u001b[39mcourse\u001b[38;5;241m.\u001b[39mget_assignments_for_group(group_id):\n\u001b[0;32m---> 41\u001b[0m     assignment \u001b[38;5;241m=\u001b[39m \u001b[43mAssignment\u001b[49m\u001b[43m(\u001b[49m\u001b[43mcourse\u001b[49m\u001b[38;5;241;43m=\u001b[39;49m\u001b[38;5;28;43mself\u001b[39;49m\u001b[38;5;241;43m.\u001b[39;49m\u001b[43mcourse\u001b[49m\u001b[43m,\u001b[49m\u001b[43m \u001b[49m\u001b[43massignment_id\u001b[49m\u001b[38;5;241;43m=\u001b[39;49m\u001b[43mj\u001b[49m\u001b[38;5;241;43m.\u001b[39;49m\u001b[43mid\u001b[49m\u001b[43m)\u001b[49m\n\u001b[1;32m     42\u001b[0m     out\u001b[38;5;241m.\u001b[39mappend(assignment)\n\u001b[1;32m     43\u001b[0m \u001b[38;5;28;01mreturn\u001b[39;00m out\n",
      "File \u001b[0;32m~/CanvasCLI/src/assignment.py:19\u001b[0m, in \u001b[0;36mAssignment.__init__\u001b[0;34m(self, course, assignment_id)\u001b[0m\n\u001b[1;32m     18\u001b[0m \u001b[38;5;28;01mdef\u001b[39;00m \u001b[38;5;21m__init__\u001b[39m(\u001b[38;5;28mself\u001b[39m, course, assignment_id):\n\u001b[0;32m---> 19\u001b[0m     \u001b[38;5;28mself\u001b[39m\u001b[38;5;241m.\u001b[39massignment \u001b[38;5;241m=\u001b[39m \u001b[43mcourse\u001b[49m\u001b[38;5;241;43m.\u001b[39;49m\u001b[43mget_assignment_by_id\u001b[49m(assignment_id)\n\u001b[1;32m     20\u001b[0m     \u001b[38;5;28mself\u001b[39m\u001b[38;5;241m.\u001b[39mfull_credit \u001b[38;5;241m=\u001b[39m \u001b[38;5;28mself\u001b[39m\u001b[38;5;241m.\u001b[39massignment\u001b[38;5;241m.\u001b[39mpoints_possible\n",
      "File \u001b[0;32m/opt/homebrew/anaconda3/lib/python3.9/site-packages/canvasapi/canvas_object.py:14\u001b[0m, in \u001b[0;36mCanvasObject.__getattribute__\u001b[0;34m(self, name)\u001b[0m\n\u001b[1;32m     13\u001b[0m \u001b[38;5;28;01mdef\u001b[39;00m \u001b[38;5;21m__getattribute__\u001b[39m(\u001b[38;5;28mself\u001b[39m, name):\n\u001b[0;32m---> 14\u001b[0m     \u001b[38;5;28;01mreturn\u001b[39;00m \u001b[38;5;28;43msuper\u001b[39;49m\u001b[43m(\u001b[49m\u001b[43mCanvasObject\u001b[49m\u001b[43m,\u001b[49m\u001b[43m \u001b[49m\u001b[38;5;28;43mself\u001b[39;49m\u001b[43m)\u001b[49m\u001b[38;5;241;43m.\u001b[39;49m\u001b[38;5;21;43m__getattribute__\u001b[39;49m\u001b[43m(\u001b[49m\u001b[43mname\u001b[49m\u001b[43m)\u001b[49m\n",
      "\u001b[0;31mAttributeError\u001b[0m: 'Course' object has no attribute 'get_assignment_by_id'"
     ]
    }
   ],
   "source": [
    "import argparse\n",
    "import glob\n",
    "import os\n",
    "from src.api import get_api\n",
    "from src.parser import get_args\n",
    "from src.parser import get_day\n",
    "from src.quiz_manager import QuizManager\n",
    "from src.config import Config\n",
    "from pathlib import Path\n",
    "from src.course import Course\n",
    "from src.front_page import FrontPage\n",
    "from collections import defaultdict\n",
    "from datetime import datetime\n",
    "from datetime import date\n",
    "\n",
    "from canvasapi.exceptions import CanvasException\n",
    "from canvasapi.paginated_list import PaginatedList\n",
    "from src.cli import get_course_from_ini\n",
    "\n",
    "PATH_TO_INI = \"/Users/abe/CanvasCLI/3220S2023.ini\"\n",
    "\n",
    "course = get_course_from_ini(PATH_TO_INI)\n",
    "\n",
    "assignment = course.get_assignments_in_group(\"Exercises\")\n",
    "assignment_one = assignment[0]\n",
    "from src.assignment import Assignment\n",
    "from src.graders.one_off import Grader\n",
    "students = course.get_students()\n",
    "submissions = assignment_one.get_submissions(students)\n",
    "len(submissions)"
   ]
  },
  {
   "cell_type": "code",
   "execution_count": 5,
   "id": "601dd2c3",
   "metadata": {},
   "outputs": [],
   "source": [
    "students = course.get_students()"
   ]
  },
  {
   "cell_type": "code",
   "execution_count": 6,
   "id": "01095814",
   "metadata": {},
   "outputs": [
    {
     "data": {
      "text/plain": [
       "[Student(canvas_id=361387, cu_id='ayma1565', name='Ayah Maaliki'),\n",
       " Student(canvas_id=400029, cu_id='grmc2590', name='Grace Mccabe'),\n",
       " Student(canvas_id=335559, cu_id='evwo8948', name='Evan Woods'),\n",
       " Student(canvas_id=411104, cu_id='nabe4427', name='Nardos Beyene'),\n",
       " Student(canvas_id=365754, cu_id='keau9728', name='Keenan Austin'),\n",
       " Student(canvas_id=361426, cu_id='jugh3735', name='Justin Gheleta'),\n",
       " Student(canvas_id=385692, cu_id='aisa5175', name='Aiden Sadri'),\n",
       " Student(canvas_id=356028, cu_id='jowa7604', name='Joshua Walh'),\n",
       " Student(canvas_id=358564, cu_id='jeso9679', name='Jeremy Song'),\n",
       " Student(canvas_id=366658, cu_id='aiwo6218', name='Aidan Woodring'),\n",
       " Student(canvas_id=359425, cu_id='hada5216', name='Hannah Davidson'),\n",
       " Student(canvas_id=340468, cu_id='elmu9649', name='Elise Mutz'),\n",
       " Student(canvas_id=371307, cu_id='grmc7616', name='Grace Mckenna'),\n",
       " Student(canvas_id=355201, cu_id='etid2766', name='Ethan Iddings'),\n",
       " Student(canvas_id=361639, cu_id='lupl8098', name='Lucas Pleva'),\n",
       " Student(canvas_id=358722, cu_id='jost6223', name='Jp Starkey'),\n",
       " Student(canvas_id=326237, cu_id='joco6398', name='Cito Cortez'),\n",
       " Student(canvas_id=394991, cu_id='kisn2035', name='Kiara Snow'),\n",
       " Student(canvas_id=311232, cu_id='daha2315', name='Diggy Haile'),\n",
       " Student(canvas_id=339542, cu_id='iahe2866', name='Iain Hess'),\n",
       " Student(canvas_id=400043, cu_id='owca3918', name='Owen Cardwell'),\n",
       " Student(canvas_id=379073, cu_id='remu1708', name='Retaj Muhsen'),\n",
       " Student(canvas_id=372537, cu_id='elka1968', name='Elias Kattes'),\n",
       " Student(canvas_id=340412, cu_id='alfo6928', name='Alex Foley'),\n",
       " Student(canvas_id=366993, cu_id='paad6858', name='Patrick Adams'),\n",
       " Student(canvas_id=358983, cu_id='andu7600', name='Andrew Duquette'),\n",
       " Student(canvas_id=396117, cu_id='grtr5124', name='Grace Trahan'),\n",
       " Student(canvas_id=335213, cu_id='anca8884', name='Drew Caton'),\n",
       " Student(canvas_id=362300, cu_id='iawo9643', name='Ian Wolford'),\n",
       " Student(canvas_id=339613, cu_id='jopo1701', name='Jon Porter'),\n",
       " Student(canvas_id=328826, cu_id='wiay1602', name='William Aylott'),\n",
       " Student(canvas_id=355658, cu_id='vrka4632', name='Vraj Kachhia'),\n",
       " Student(canvas_id=337092, cu_id='josu4926', name='Jack Suvari'),\n",
       " Student(canvas_id=339650, cu_id='nast3022', name='Nate Stutzman'),\n",
       " Student(canvas_id=364828, cu_id='spab9969', name='Spencer Abbott'),\n",
       " Student(canvas_id=365735, cu_id='tath3540', name='Taylor Thomas'),\n",
       " Student(canvas_id=342520, cu_id='tilu3709', name='Timothy Luu'),\n",
       " Student(canvas_id=334616, cu_id='stsi8773', name='Stanislaw Sieron'),\n",
       " Student(canvas_id=363059, cu_id='hayo7380', name='Hannah Yoon'),\n",
       " Student(canvas_id=354848, cu_id='paco1182', name='Payton Coakley'),\n",
       " Student(canvas_id=357328, cu_id='grsc9603', name='Greyson Scott'),\n",
       " Student(canvas_id=357254, cu_id='vibu7464', name='Vincent Bursey'),\n",
       " Student(canvas_id=367293, cu_id='beda5109', name='Ben Danzis'),\n",
       " Student(canvas_id=340656, cu_id='jama0316', name='J.P. Mahoney'),\n",
       " Student(canvas_id=334183, cu_id='comi2673', name='Collin Mizwicki'),\n",
       " Student(canvas_id=363883, cu_id='jomc1967', name='Jordan Mccannon'),\n",
       " Student(canvas_id=364064, cu_id='chca1027', name='Charlie Candela Arellanes'),\n",
       " Student(canvas_id=337835, cu_id='pili9136', name='Pippa Liddiard'),\n",
       " Student(canvas_id=306426, cu_id='niri0643', name='Nick Ringhofer'),\n",
       " Student(canvas_id=329544, cu_id='jabu2451', name='Jack Bulakites'),\n",
       " Student(canvas_id=324726, cu_id='ande3039', name='Anthony Dela Fuente'),\n",
       " Student(canvas_id=354384, cu_id='vebh9907', name='Veena Bhatnagar'),\n",
       " Student(canvas_id=391790, cu_id='abki4470', name='Abhi Killamsetty'),\n",
       " Student(canvas_id=329065, cu_id='caei4771', name='Carson Eischen'),\n",
       " Student(canvas_id=356691, cu_id='spga7823', name='Spencer Garner'),\n",
       " Student(canvas_id=355173, cu_id='sisp8453', name='Simon Sprenger'),\n",
       " Student(canvas_id=400234, cu_id='brco0012', name='Brenden Coney'),\n",
       " Student(canvas_id=334468, cu_id='japu1500', name='James Purse'),\n",
       " Student(canvas_id=360058, cu_id='luer5497', name='Lucas Ericson'),\n",
       " Student(canvas_id=386068, cu_id='utag5307', name='Karsh Agarwalla'),\n",
       " Student(canvas_id=332389, cu_id='zapa3371', name='Zak Pasquarello'),\n",
       " Student(canvas_id=356131, cu_id='pehe7415', name='Peter Heisler')]"
      ]
     },
     "execution_count": 6,
     "metadata": {},
     "output_type": "execute_result"
    }
   ],
   "source": [
    "students"
   ]
  },
  {
   "cell_type": "code",
   "execution_count": 11,
   "id": "bbeeeb0b",
   "metadata": {},
   "outputs": [],
   "source": [
    "from pathlib import Path\n",
    "from src.grade import Grade\n",
    "from src.graded_submission import GradedSubmission\n",
    "path = Path(\"/Users/abe/everything/teaching/S2023/3220/3220/autograded\")\n",
    "no_issues = []\n",
    "for j in path.rglob(\"*.txt\"):\n",
    "    parts = j.as_posix().split(\"/\")\n",
    "    cuidd = parts[-3]\n",
    "    try:\n",
    "        student = next(x for x in students if x.cu_id == cuidd)\n",
    "        txt = open(j.as_posix()).read()\n",
    "        lines = txt.split(\"\\n\")\n",
    "        if \"['Paulina', 'Anaya', 'Vishal', 'Rahab']\" in txt and (\"[1, 2, 3]\" in txt or \"[1,2,3]\"):\n",
    "            grade = Grade(score=10, comments=[\"Nice job!\"])\n",
    "            for submission in submissions:\n",
    "                if submission.user_id == student.canvas_id:\n",
    "                    submission.student = student\n",
    "                    graded_submission = GradedSubmission(submission=submission,\n",
    "                                                         student=student,\n",
    "                                                         grade=grade)\n",
    "                    no_issues.append(graded_submission)\n",
    "    except:\n",
    "        pass\n"
   ]
  },
  {
   "cell_type": "code",
   "execution_count": 15,
   "id": "99bab5b5",
   "metadata": {},
   "outputs": [],
   "source": [
    "for j in no_issues[1:]:\n",
    "    j.sync()"
   ]
  }
 ],
 "metadata": {
  "kernelspec": {
   "display_name": "Python 3 (ipykernel)",
   "language": "python",
   "name": "python3"
  },
  "language_info": {
   "codemirror_mode": {
    "name": "ipython",
    "version": 3
   },
   "file_extension": ".py",
   "mimetype": "text/x-python",
   "name": "python",
   "nbconvert_exporter": "python",
   "pygments_lexer": "ipython3",
   "version": "3.9.12"
  }
 },
 "nbformat": 4,
 "nbformat_minor": 5
}
