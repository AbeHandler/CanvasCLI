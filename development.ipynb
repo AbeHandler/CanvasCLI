{
 "cells": [
  {
   "cell_type": "code",
   "execution_count": 1,
   "id": "df94d8ec",
   "metadata": {},
   "outputs": [],
   "source": [
    "%load_ext autoreload\n",
    "\n",
    "%autoreload 2"
   ]
  },
  {
   "cell_type": "code",
   "execution_count": 2,
   "id": "de0466a9",
   "metadata": {},
   "outputs": [],
   "source": [
    "\n",
    "import argparse\n",
    "import glob\n",
    "import os\n",
    "from src.api import get_api\n",
    "from src.parser import get_args\n",
    "from src.parser import get_day\n",
    "from src.quiz_manager import QuizManager\n",
    "from src.config import Config\n",
    "from pathlib import Path\n",
    "from src.course import Course\n",
    "from src.front_page import FrontPage\n",
    "from collections import defaultdict\n",
    "from datetime import datetime\n",
    "from datetime import date\n",
    "\n",
    "from canvasapi.exceptions import CanvasException\n",
    "from canvasapi.paginated_list import PaginatedList\n",
    "from src.cli import get_course_from_ini"
   ]
  },
  {
   "cell_type": "code",
   "execution_count": 38,
   "id": "5f649bb0",
   "metadata": {},
   "outputs": [],
   "source": [
    "PATH_TO_INI = \"/Users/abe/CanvasCLI/3220S2023.ini\"\n",
    "\n",
    "course = get_course_from_ini(PATH_TO_INI)\n",
    "assignments = course.get_assignments_in_group(\"Exercises\")"
   ]
  },
  {
   "cell_type": "code",
   "execution_count": 43,
   "id": "32d5a7e5",
   "metadata": {},
   "outputs": [
    {
     "name": "stderr",
     "output_type": "stream",
     "text": [
      "100%|█| "
     ]
    },
    {
     "name": "stdout",
     "output_type": "stream",
     "text": [
      "[*] Downloaded 19\n"
     ]
    },
    {
     "name": "stderr",
     "output_type": "stream",
     "text": [
      "\n"
     ]
    }
   ],
   "source": [
    "from src.assignment import Assignment\n",
    "id_ = course.lookup_assignment_id(\"Exercises\", 'Week 01 Assignment')\n",
    "assignment = Assignment(course=course, assignment_id=id_)\n",
    "students = course.get_students()\n",
    "assignment.download_submissions(students, \n",
    "                                download_location='/Users/abe/everything/teaching/S2023/3220/3220/submitted',\n",
    "                                assignment_name=\"one\")\n"
   ]
  },
  {
   "cell_type": "code",
   "execution_count": 68,
   "id": "f969ff7d",
   "metadata": {},
   "outputs": [],
   "source": [
    "from typing import List\n",
    "def get_autograded_files(assignment_name: str,\n",
    "                         path_to_autograded: Path) -> List[str]:\n",
    "\n",
    "    out = []\n",
    "    for p in path_to_autograded.rglob(\"*.py\"):\n",
    "        if assignment_name in p.as_posix():\n",
    "            out.append(p)\n",
    "    return out\n",
    "\n",
    "path = Path(\"/Users/abe/everything/teaching/S2023/3220/3220/autograded\")\n",
    "\n",
    "assignment_name = \"one\"\n",
    "for file in get_autograded_files(assignment_name=assignment_name,\n",
    "                                 path_to_autograded=path):\n",
    "    output = file.parents[0] / (assignment_name + \".txt\")\n",
    "    \n",
    "    cmd = f\"python {file.as_posix()} > {output.as_posix()}\""
   ]
  },
  {
   "cell_type": "code",
   "execution_count": 71,
   "id": "c9fb7542",
   "metadata": {},
   "outputs": [
    {
     "data": {
      "text/plain": [
       "'python /Users/abe/everything/teaching/S2023/3220/3220/autograded/vebh9907/one/one.py > /Users/abe/everything/teaching/S2023/3220/3220/autograded/vebh9907/one/one.txt'"
      ]
     },
     "execution_count": 71,
     "metadata": {},
     "output_type": "execute_result"
    }
   ],
   "source": [
    "cmd"
   ]
  },
  {
   "cell_type": "code",
   "execution_count": null,
   "id": "7bd95950",
   "metadata": {},
   "outputs": [],
   "source": []
  }
 ],
 "metadata": {
  "kernelspec": {
   "display_name": "Python 3 (ipykernel)",
   "language": "python",
   "name": "python3"
  },
  "language_info": {
   "codemirror_mode": {
    "name": "ipython",
    "version": 3
   },
   "file_extension": ".py",
   "mimetype": "text/x-python",
   "name": "python",
   "nbconvert_exporter": "python",
   "pygments_lexer": "ipython3",
   "version": "3.9.12"
  }
 },
 "nbformat": 4,
 "nbformat_minor": 5
}
