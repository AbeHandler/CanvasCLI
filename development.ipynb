{
 "cells": [
  {
   "cell_type": "code",
   "execution_count": 1,
   "id": "de0466a9",
   "metadata": {},
   "outputs": [],
   "source": [
    "from canvas_cli import get_api, read_configs"
   ]
  },
  {
   "cell_type": "markdown",
   "id": "4d1c134e",
   "metadata": {},
   "source": [
    "### Auto updating the scores on a quiz"
   ]
  },
  {
   "cell_type": "code",
   "execution_count": 14,
   "id": "2ff4f1cf",
   "metadata": {},
   "outputs": [
    {
     "name": "stdout",
     "output_type": "stream",
     "text": [
      "Nelson Alucce (365993)\n",
      "James Anderson (328697)\n",
      "Hayden Beck (308201)\n",
      "Bradley Bollinger (313566)\n",
      "Elijah Boykoff (362907)\n",
      "Joe Bulger (334385)\n",
      "Alyx Carifa (357506)\n",
      "Christopher Davis (374459)\n",
      "Yunke Du (313235)\n",
      "Luke Fewell (334140)\n",
      "Jack Fulkerson (333630)\n",
      "Sam Gebrewahd (303621)\n",
      "Jasmin Godinez Rivera (315336)\n",
      "Tait Gray (330501)\n",
      "Reese Greiner (280258)\n",
      "Apoorva Gundu (282070)\n",
      "Abram Handler (357250)\n",
      "Drew Hockstein (328422)\n",
      "Trent Hoople (330054)\n",
      "Eric Lanton (329608)\n",
      "Brian Lee (325927)\n",
      "Josie Light (339255)\n",
      "Cynthia Lim (367653)\n",
      "Anna Lowrimore (336801)\n",
      "Sneha Malisetty (337887)\n",
      "Chimou Meharzi (334319)\n",
      "Brian Murdoch (258569)\n",
      "Julia Neal (330261)\n",
      "Ethan Ngai (330634)\n",
      "Jacob Reynolds (306513)\n",
      "Alexis Roberts (332442)\n",
      "Brian Rosenthal (273960)\n",
      "Jeremiah Smith (336422)\n",
      "Zoe Smith (312254)\n",
      "Evan Teal (334630)\n",
      "Colleen Thompson (337116)\n",
      "Delaney Torrisi (328743)\n",
      "Max Vali (331500)\n",
      "Austin White (337074)\n",
      "Youssef Yatribi (317776)\n",
      "Areg Zaratsyan (371800)\n",
      "Maggie Zhang (313221)\n"
     ]
    }
   ],
   "source": [
    "\n",
    "INI_DIR = \"/Users/abramhandler/CanvasCLI\"\n",
    "SEMESTER = \"F2021\"\n",
    "\n",
    "canvas = get_api()\n",
    "\n",
    "configs = read_configs(INI_DIR, SEMESTER)\n",
    "    \n",
    "course = canvas.get_course(configs['CUno2canvasno'][\"2301\"])\n",
    "\n",
    "quiz = course.get_quiz(208925)\n",
    "\n",
    "#for j in quiz.get_submissions():\n",
    "#    print(j, j.user_id)\n",
    "#    print(canvas.get_user(6030887))\n",
    "    \n",
    "for j in course.get_users():\n",
    "    print(j)"
   ]
  },
  {
   "cell_type": "code",
   "execution_count": 16,
   "id": "0e6a1595",
   "metadata": {},
   "outputs": [
    {
     "data": {
      "text/plain": [
       "'Yue.N.Zhang@Colorado.EDU'"
      ]
     },
     "execution_count": 16,
     "metadata": {},
     "output_type": "execute_result"
    }
   ],
   "source": [
    "j.email"
   ]
  },
  {
   "cell_type": "code",
   "execution_count": null,
   "id": "868a7221",
   "metadata": {},
   "outputs": [],
   "source": []
  }
 ],
 "metadata": {
  "kernelspec": {
   "display_name": "Python 3 (ipykernel)",
   "language": "python",
   "name": "python3"
  },
  "language_info": {
   "codemirror_mode": {
    "name": "ipython",
    "version": 3
   },
   "file_extension": ".py",
   "mimetype": "text/x-python",
   "name": "python",
   "nbconvert_exporter": "python",
   "pygments_lexer": "ipython3",
   "version": "3.8.3"
  }
 },
 "nbformat": 4,
 "nbformat_minor": 5
}
