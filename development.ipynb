{
 "cells": [
  {
   "cell_type": "code",
   "execution_count": 13,
   "id": "f37cff7e",
   "metadata": {},
   "outputs": [],
   "source": [
    "%load_ext autoreload\n",
    "\n",
    "%autoreload 2"
   ]
  },
  {
   "cell_type": "code",
   "execution_count": 21,
   "id": "de0466a9",
   "metadata": {},
   "outputs": [],
   "source": [
    "\n",
    "import argparse\n",
    "import glob\n",
    "import os\n",
    "from src.api import get_api\n",
    "from src.parser import get_args\n",
    "from src.parser import get_day\n",
    "from src.quiz_manager import QuizManager\n",
    "from src.config import Config\n",
    "from pathlib import Path\n",
    "from src.course import Course\n",
    "from src.front_page import FrontPage\n",
    "from collections import defaultdict\n",
    "from datetime import datetime\n",
    "from datetime import date\n",
    "\n",
    "from canvasapi.exceptions import CanvasException\n",
    "from canvasapi.paginated_list import PaginatedList\n",
    "from src.cli import get_course_from_ini"
   ]
  },
  {
   "cell_type": "code",
   "execution_count": 22,
   "id": "5f649bb0",
   "metadata": {},
   "outputs": [],
   "source": [
    "PATH_TO_INI = \"/Users/abe/CanvasCLI/3220S2023.ini\"\n",
    "\n",
    "course = get_course_from_ini(PATH_TO_INI)"
   ]
  },
  {
   "cell_type": "code",
   "execution_count": 30,
   "id": "9106451b",
   "metadata": {},
   "outputs": [],
   "source": [
    "\n",
    "assignments = course.get_assignments_in_group(\"Exercises\")"
   ]
  },
  {
   "cell_type": "code",
   "execution_count": 34,
   "id": "83045437",
   "metadata": {},
   "outputs": [
    {
     "data": {
      "text/plain": [
       "['Week 01 Assignment',\n",
       " 'Week 02 Assignment',\n",
       " 'Week 03 Assignment',\n",
       " 'Week 04 Assignment',\n",
       " 'Week 05 Assignment',\n",
       " 'Week 06 Assignment',\n",
       " 'Week 07 Assignment',\n",
       " 'Week 08 Assignment',\n",
       " 'Week 09 Assignment',\n",
       " 'Week 10 Assignment',\n",
       " 'Week 11 Assignment',\n",
       " 'Week 12 Assignment',\n",
       " 'Week 13 Assignment',\n",
       " 'Week 14 Assignment',\n",
       " 'Week 15 Assignment',\n",
       " 'Week 16 Assignment']"
      ]
     },
     "execution_count": 34,
     "metadata": {},
     "output_type": "execute_result"
    }
   ],
   "source": [
    "[o.name for o in assignments]"
   ]
  },
  {
   "cell_type": "code",
   "execution_count": 43,
   "id": "061d86ad",
   "metadata": {},
   "outputs": [],
   "source": [
    "\n",
    "from src.assignment import Assignment\n",
    "id_ = course.lookup_assignment_id(\"Exercises\", 'Week 01 Assignment')\n",
    "assignmemnt = Assignment(course=course, assignment_id=id_)"
   ]
  },
  {
   "cell_type": "code",
   "execution_count": 44,
   "id": "ae6fdeec",
   "metadata": {},
   "outputs": [],
   "source": [
    "submissions = assignmemnt.get_submissions()"
   ]
  },
  {
   "cell_type": "code",
   "execution_count": 49,
   "id": "239a0009",
   "metadata": {},
   "outputs": [],
   "source": [
    "a = 0\n",
    "for s in submissions:\n",
    "    if len(s.attachments) > 0:\n",
    "        a = s"
   ]
  },
  {
   "cell_type": "code",
   "execution_count": 52,
   "id": "89e37bd2",
   "metadata": {},
   "outputs": [],
   "source": [
    "file = a.attachments[0]"
   ]
  },
  {
   "cell_type": "code",
   "execution_count": 53,
   "id": "737614c4",
   "metadata": {},
   "outputs": [
    {
     "data": {
      "text/plain": [
       "File(_requester=<canvasapi.requester.Requester object at 0x10645f5b0>, id=58057691, uuid=NUzMEMTnMTUMxAXxJT9XJ0pwhvSmSR56PtiBFu5J, folder_id=1915922, display_name=one.ipynb, filename=one.ipynb, upload_status=success, content-type=application/octet-stream, url=https://canvas.colorado.edu/files/58057691/download?download_frd=1&verifier=NUzMEMTnMTUMxAXxJT9XJ0pwhvSmSR56PtiBFu5J, size=11409, created_at=2023-01-19T20:42:05Z, created_at_date=2023-01-19 20:42:05+00:00, updated_at=2023-01-19T20:42:05Z, updated_at_date=2023-01-19 20:42:05+00:00, unlock_at=None, locked=False, hidden=False, lock_at=None, hidden_for_user=False, thumbnail_url=None, modified_at=2023-01-19T20:42:05Z, modified_at_date=2023-01-19 20:42:05+00:00, mime_class=file, media_entry_id=None, category=uncategorized, locked_for_user=False, preview_url=None)"
      ]
     },
     "execution_count": 53,
     "metadata": {},
     "output_type": "execute_result"
    }
   ],
   "source": [
    "file"
   ]
  },
  {
   "cell_type": "code",
   "execution_count": 56,
   "id": "6a10bf69",
   "metadata": {},
   "outputs": [
    {
     "data": {
      "text/plain": [
       "396117"
      ]
     },
     "execution_count": 56,
     "metadata": {},
     "output_type": "execute_result"
    }
   ],
   "source": [
    "a.user_id"
   ]
  },
  {
   "cell_type": "code",
   "execution_count": 60,
   "id": "f1579a16",
   "metadata": {},
   "outputs": [
    {
     "data": {
      "text/plain": [
       "{'Jeremy Song': 358564,\n",
       " 'Vraj Kachhia': 355658,\n",
       " 'Stanislaw Sieron': 334616,\n",
       " 'Cito Cortez': 326237,\n",
       " 'Grace Trahan': 396117,\n",
       " 'Lucas Pleva': 361639,\n",
       " 'Vincent Bursey': 357254,\n",
       " 'Nate Stutzman': 339650,\n",
       " 'Joshua Walh': 356028,\n",
       " 'Aiden Sadri': 385692,\n",
       " 'Timothy Luu': 342520,\n",
       " 'Abhi Killamsetty': 391790,\n",
       " 'Greyson Scott': 357328,\n",
       " 'Andrew Duquette': 358983,\n",
       " 'Collin Mizwicki': 334183,\n",
       " 'Nardos Beyene': 411104,\n",
       " 'Alex Foley': 340412,\n",
       " 'Nick Ringhofer': 306426,\n",
       " 'Ethan Iddings': 355201,\n",
       " 'Grace Mccabe': 400029,\n",
       " 'James Purse': 334468,\n",
       " 'Drew Caton': 335213,\n",
       " 'Brenden Coney': 400234,\n",
       " 'Justin Gheleta': 361426,\n",
       " 'Owen Cardwell': 400043,\n",
       " 'Ayah Maaliki': 361387,\n",
       " 'Taylor Thomas': 365735,\n",
       " 'William Aylott': 328826,\n",
       " 'J.P. Mahoney': 340656,\n",
       " 'Pippa Liddiard': 337835,\n",
       " 'Elise Mutz': 340468,\n",
       " 'Elias Kattes': 372537,\n",
       " 'Anthony Dela Fuente': 324726,\n",
       " 'Jack Suvari': 337092,\n",
       " 'Veena Bhatnagar': 354384,\n",
       " 'Jack Bulakites': 329544,\n",
       " 'Aidan Woodring': 366658,\n",
       " 'Jordan Mccannon': 363883,\n",
       " 'Patrick Adams': 366993,\n",
       " 'Lucas Ericson': 360058,\n",
       " 'Keenan Austin': 365754,\n",
       " 'Karsh Agarwalla': 386068,\n",
       " 'Ian Wolford': 362300,\n",
       " 'Charlie Candela Arellanes': 364064,\n",
       " 'Grace Mckenna': 371307,\n",
       " 'Kiara Snow': 394991,\n",
       " 'Evan Woods': 335559,\n",
       " 'Carson Eischen': 329065,\n",
       " 'Spencer Abbott': 364828,\n",
       " 'Jon Porter': 339613,\n",
       " 'Diggy Haile': 311232,\n",
       " 'Hannah Davidson': 359425,\n",
       " 'Jp Starkey': 358722,\n",
       " 'Retaj Muhsen': 379073,\n",
       " 'Zak Pasquarello': 332389,\n",
       " 'Hannah Yoon': 363059,\n",
       " 'Payton Coakley': 354848,\n",
       " 'Iain Hess': 339542,\n",
       " 'Spencer Garner': 356691,\n",
       " 'Ben Danzis': 367293,\n",
       " 'Simon Sprenger': 355173,\n",
       " 'Peter Heisler': 356131}"
      ]
     },
     "execution_count": 60,
     "metadata": {},
     "output_type": "execute_result"
    }
   ],
   "source": [
    "course.get_student_names2_ids()"
   ]
  },
  {
   "cell_type": "code",
   "execution_count": null,
   "id": "9a78cd44",
   "metadata": {},
   "outputs": [],
   "source": []
  }
 ],
 "metadata": {
  "kernelspec": {
   "display_name": "Python 3 (ipykernel)",
   "language": "python",
   "name": "python3"
  },
  "language_info": {
   "codemirror_mode": {
    "name": "ipython",
    "version": 3
   },
   "file_extension": ".py",
   "mimetype": "text/x-python",
   "name": "python",
   "nbconvert_exporter": "python",
   "pygments_lexer": "ipython3",
   "version": "3.9.12"
  }
 },
 "nbformat": 4,
 "nbformat_minor": 5
}
