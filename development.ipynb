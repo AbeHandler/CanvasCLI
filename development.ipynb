{
 "cells": [
  {
   "cell_type": "code",
   "execution_count": 1,
   "id": "96551e2e",
   "metadata": {},
   "outputs": [],
   "source": [
    "%load_ext autoreload\n",
    "\n",
    "%autoreload 2"
   ]
  },
  {
   "cell_type": "code",
   "execution_count": 2,
   "id": "de0466a9",
   "metadata": {},
   "outputs": [],
   "source": [
    "\n",
    "import argparse\n",
    "import glob\n",
    "import os\n",
    "from src.api import get_api\n",
    "from src.parser import get_args\n",
    "from src.parser import get_day\n",
    "from src.quiz_manager import QuizManager\n",
    "from src.config import Config\n",
    "from pathlib import Path\n",
    "from src.course import Course\n",
    "from src.front_page import FrontPage\n",
    "from collections import defaultdict\n",
    "from datetime import datetime\n",
    "from datetime import date\n",
    "\n",
    "from canvasapi.exceptions import CanvasException\n",
    "from canvasapi.paginated_list import PaginatedList\n",
    "from src.cli import get_course_from_ini"
   ]
  },
  {
   "cell_type": "code",
   "execution_count": 3,
   "id": "5f649bb0",
   "metadata": {},
   "outputs": [],
   "source": [
    "PATH_TO_INI = \"/Users/abe/CanvasCLI/3220S2023.ini\"\n",
    "\n",
    "course = get_course_from_ini(PATH_TO_INI)\n",
    "assignments = course.get_assignments_in_group(\"Exercises\")"
   ]
  },
  {
   "cell_type": "code",
   "execution_count": 4,
   "id": "793480cd",
   "metadata": {},
   "outputs": [
    {
     "name": "stderr",
     "output_type": "stream",
     "text": [
      "100%|██████████████████████████████████████████████████████████████████████████████| 61/61 [00:22<00:00,  2.74it/s]"
     ]
    },
    {
     "name": "stdout",
     "output_type": "stream",
     "text": [
      "[*] Downloaded 20\n"
     ]
    },
    {
     "name": "stderr",
     "output_type": "stream",
     "text": [
      "\n"
     ]
    }
   ],
   "source": [
    "from src.assignment import Assignment\n",
    "id_ = course.lookup_assignment_id(\"Exercises\", 'Week 01 Assignment')\n",
    "assignment = Assignment(course=course, assignment_id=id_)\n",
    "students = course.get_students()\n",
    "assignment.download_submissions(students, \n",
    "                                download_location='/Users/abe/everything/teaching/S2023/3220/3220/submitted',\n",
    "                                assignment_name=\"one\")\n"
   ]
  },
  {
   "cell_type": "code",
   "execution_count": 9,
   "id": "bbeeeb0b",
   "metadata": {},
   "outputs": [
    {
     "name": "stdout",
     "output_type": "stream",
     "text": [
      "/Users/abe/everything/teaching/S2023/3220/3220/autograded/abki4470/one/one.txt\n",
      "/Users/abe/everything/teaching/S2023/3220/3220/autograded/japu1500/one/one.txt\n",
      "/Users/abe/everything/teaching/S2023/3220/3220/autograded/luer5497/one/one.txt\n",
      "/Users/abe/everything/teaching/S2023/3220/3220/autograded/iawo9643/one/one.txt\n",
      "/Users/abe/everything/teaching/S2023/3220/3220/autograded/aisa5175/one/one.txt\n",
      "/Users/abe/everything/teaching/S2023/3220/3220/autograded/grmc2590/one/one.txt\n",
      "/Users/abe/everything/teaching/S2023/3220/3220/autograded/zapa3371/one/one.txt\n",
      "/Users/abe/everything/teaching/S2023/3220/3220/autograded/pehe7415/one/one.txt\n",
      "/Users/abe/everything/teaching/S2023/3220/3220/autograded/akh2103/one/one.txt\n",
      "/Users/abe/everything/teaching/S2023/3220/3220/autograded/wiay1602/one/one.txt\n",
      "/Users/abe/everything/teaching/S2023/3220/3220/autograded/grtr5124/one/one.txt\n",
      "/Users/abe/everything/teaching/S2023/3220/3220/autograded/stsi8773/one/one.txt\n",
      "/Users/abe/everything/teaching/S2023/3220/3220/autograded/jowa7604/one/one.txt\n",
      "/Users/abe/everything/teaching/S2023/3220/3220/autograded/evwo8948/one/one.txt\n",
      "/Users/abe/everything/teaching/S2023/3220/3220/autograded/anca8884/one/one.txt\n",
      "/Users/abe/everything/teaching/S2023/3220/3220/autograded/andu7600/one/one.txt\n",
      "/Users/abe/everything/teaching/S2023/3220/3220/autograded/hayo7380/one/one.txt\n",
      "/Users/abe/everything/teaching/S2023/3220/3220/autograded/elka1968/one/one.txt\n",
      "/Users/abe/everything/teaching/S2023/3220/3220/autograded/jost6223/one/one.txt\n",
      "/Users/abe/everything/teaching/S2023/3220/3220/autograded/kisn2035/one/one.txt\n",
      "/Users/abe/everything/teaching/S2023/3220/3220/autograded/vebh9907/one/one.txt\n"
     ]
    }
   ],
   "source": [
    "from pathlib import Path\n",
    "path = Path(\"/Users/abe/everything/teaching/S2023/3220/3220/autograded\")\n",
    "for j in path.rglob(\"*.txt\"):\n",
    "    print(j)"
   ]
  },
  {
   "cell_type": "code",
   "execution_count": 10,
   "id": "99bab5b5",
   "metadata": {},
   "outputs": [
    {
     "name": "stdout",
     "output_type": "stream",
     "text": [
      "Q stuff\r\n",
      "[1.2, 1.4, 1.8, 2.4]\r\n",
      "['Paulina', 'Anaya', 'Vishal', 'Rahab']\r\n"
     ]
    }
   ],
   "source": [
    "cat /Users/abe/everything/teaching/S2023/3220/3220/autograded/wiay1602/one/one.txt"
   ]
  },
  {
   "cell_type": "code",
   "execution_count": 12,
   "id": "d1550a38",
   "metadata": {},
   "outputs": [],
   "source": [
    "! cat /Users/abe/everything/teaching/S2023/3220/3220/autograded/vebh9907/one/one.txt"
   ]
  },
  {
   "cell_type": "code",
   "execution_count": null,
   "id": "db8aec98",
   "metadata": {},
   "outputs": [],
   "source": []
  }
 ],
 "metadata": {
  "kernelspec": {
   "display_name": "Python 3 (ipykernel)",
   "language": "python",
   "name": "python3"
  },
  "language_info": {
   "codemirror_mode": {
    "name": "ipython",
    "version": 3
   },
   "file_extension": ".py",
   "mimetype": "text/x-python",
   "name": "python",
   "nbconvert_exporter": "python",
   "pygments_lexer": "ipython3",
   "version": "3.9.12"
  }
 },
 "nbformat": 4,
 "nbformat_minor": 5
}
