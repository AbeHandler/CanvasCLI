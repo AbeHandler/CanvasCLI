{
 "cells": [
  {
   "cell_type": "markdown",
   "id": "ef25917c",
   "metadata": {
    "id": "ef25917c"
   },
   "source": [
    "---"
   ]
  },
  {
   "cell_type": "markdown",
   "id": "a666c978-a45b-4a04-8633-e80b64c50e7a",
   "metadata": {
    "id": "a666c978-a45b-4a04-8633-e80b64c50e7a"
   },
   "source": [
    "### Investigating sales data\n",
    "\n",
    "- In this notebook, you will investigate data about sales representatives in four regions\n",
    "- To answer the questions in the notebook, you need to carefully investigate the structure of the dataframe\n",
    "- Use methods like `df.columns` and `df.head` to get a sense of the structure of the data before attempting the question\n",
    "- Be sure you understand what the data represents. That is almost always the first step in a data analysis problem"
   ]
  },
  {
   "cell_type": "markdown",
   "id": "83f9f454-3e8c-4581-8185-77e96ce1eb23",
   "metadata": {
    "id": "83f9f454-3e8c-4581-8185-77e96ce1eb23"
   },
   "source": [
    "### Sales to region\n",
    "\n",
    "- We will get started by writing a helper function you will use throughout the problem set"
   ]
  },
  {
   "cell_type": "code",
   "execution_count": 1,
   "id": "9227885e-c7aa-42c6-92c9-3dba86136a33",
   "metadata": {
    "execution": {
     "iopub.execute_input": "2023-03-21T12:16:30.865219Z",
     "iopub.status.busy": "2023-03-21T12:16:30.864931Z",
     "iopub.status.idle": "2023-03-21T12:16:31.295771Z",
     "shell.execute_reply": "2023-03-21T12:16:31.295058Z"
    },
    "id": "9227885e-c7aa-42c6-92c9-3dba86136a33",
    "tags": []
   },
   "outputs": [],
   "source": [
    "import pandas as pd\n",
    "from pandas import DataFrame\n",
    "df = pd.read_csv(\"sales.csv\")\n"
   ]
  },
  {
   "cell_type": "code",
   "execution_count": 2,
   "id": "lH4wx29XpML-",
   "metadata": {
    "colab": {
     "base_uri": "https://localhost:8080/",
     "height": 206
    },
    "execution": {
     "iopub.execute_input": "2023-03-21T12:16:31.300215Z",
     "iopub.status.busy": "2023-03-21T12:16:31.299983Z",
     "iopub.status.idle": "2023-03-21T12:16:31.316353Z",
     "shell.execute_reply": "2023-03-21T12:16:31.313930Z"
    },
    "id": "lH4wx29XpML-",
    "outputId": "95167589-4101-430c-dfbe-930c9c887262"
   },
   "outputs": [
    {
     "data": {
      "text/html": [
       "<div>\n",
       "<style scoped>\n",
       "    .dataframe tbody tr th:only-of-type {\n",
       "        vertical-align: middle;\n",
       "    }\n",
       "\n",
       "    .dataframe tbody tr th {\n",
       "        vertical-align: top;\n",
       "    }\n",
       "\n",
       "    .dataframe thead th {\n",
       "        text-align: right;\n",
       "    }\n",
       "</style>\n",
       "<table border=\"1\" class=\"dataframe\">\n",
       "  <thead>\n",
       "    <tr style=\"text-align: right;\">\n",
       "      <th></th>\n",
       "      <th>sales_region</th>\n",
       "      <th>sales_rep_id_number</th>\n",
       "      <th>base_pay</th>\n",
       "      <th>home_city</th>\n",
       "      <th>sales</th>\n",
       "    </tr>\n",
       "  </thead>\n",
       "  <tbody>\n",
       "    <tr>\n",
       "      <th>0</th>\n",
       "      <td>SW</td>\n",
       "      <td>9352</td>\n",
       "      <td>10000</td>\n",
       "      <td>Tuscon</td>\n",
       "      <td>1900</td>\n",
       "    </tr>\n",
       "    <tr>\n",
       "      <th>1</th>\n",
       "      <td>NE</td>\n",
       "      <td>7498</td>\n",
       "      <td>10000</td>\n",
       "      <td>Boston</td>\n",
       "      <td>1489</td>\n",
       "    </tr>\n",
       "    <tr>\n",
       "      <th>2</th>\n",
       "      <td>SE</td>\n",
       "      <td>2145</td>\n",
       "      <td>13000</td>\n",
       "      <td>Atlanta</td>\n",
       "      <td>4055</td>\n",
       "    </tr>\n",
       "    <tr>\n",
       "      <th>3</th>\n",
       "      <td>NW</td>\n",
       "      <td>8971</td>\n",
       "      <td>10000</td>\n",
       "      <td>Seattle</td>\n",
       "      <td>4624</td>\n",
       "    </tr>\n",
       "    <tr>\n",
       "      <th>4</th>\n",
       "      <td>NW</td>\n",
       "      <td>3434</td>\n",
       "      <td>13000</td>\n",
       "      <td>Seattle</td>\n",
       "      <td>4154</td>\n",
       "    </tr>\n",
       "  </tbody>\n",
       "</table>\n",
       "</div>"
      ],
      "text/plain": [
       "  sales_region  sales_rep_id_number  base_pay home_city  sales\n",
       "0           SW                 9352     10000    Tuscon   1900\n",
       "1           NE                 7498     10000    Boston   1489\n",
       "2           SE                 2145     13000   Atlanta   4055\n",
       "3           NW                 8971     10000   Seattle   4624\n",
       "4           NW                 3434     13000   Seattle   4154"
      ]
     },
     "execution_count": 2,
     "metadata": {},
     "output_type": "execute_result"
    }
   ],
   "source": [
    "df.head()"
   ]
  },
  {
   "cell_type": "code",
   "execution_count": 3,
   "id": "q4kND3-yk3O-",
   "metadata": {
    "colab": {
     "base_uri": "https://localhost:8080/"
    },
    "execution": {
     "iopub.execute_input": "2023-03-21T12:16:31.321251Z",
     "iopub.status.busy": "2023-03-21T12:16:31.320958Z",
     "iopub.status.idle": "2023-03-21T12:16:31.332769Z",
     "shell.execute_reply": "2023-03-21T12:16:31.331455Z"
    },
    "id": "q4kND3-yk3O-",
    "outputId": "9787ad0a-7eda-45ff-ab4f-556911ad02f3"
   },
   "outputs": [
    {
     "data": {
      "text/plain": [
       "{'Tuscon': 'SW',\n",
       " 'Pheonix': 'SW',\n",
       " 'Seattle': 'NW',\n",
       " 'Portland': 'NW',\n",
       " 'Boston': 'NE',\n",
       " 'New York': 'NE',\n",
       " 'Atlanta': 'SE'}"
      ]
     },
     "execution_count": 3,
     "metadata": {},
     "output_type": "execute_result"
    }
   ],
   "source": [
    "def get_city_to_region(input_df: DataFrame) -> dict:  \n",
    "  city_dictionary={}\n",
    "\n",
    "  ran = input_df[input_df[\"sales_region\"] == \"SW\"][\"home_city\"]\n",
    "  for i in ran:\n",
    "    city_dictionary[i]=\"SW\"\n",
    "  \n",
    "  \n",
    "  ran = input_df[input_df[\"sales_region\"] == \"NW\"][\"home_city\"]\n",
    "  for i in ran:\n",
    "    city_dictionary[i]=\"NW\"\n",
    "\n",
    "  ran = input_df[input_df[\"sales_region\"] == \"NE\"][\"home_city\"]\n",
    "  for i in ran:\n",
    "    city_dictionary[i]=\"NE\"\n",
    "  ran = input_df[input_df[\"sales_region\"] == \"SE\"][\"home_city\"]\n",
    "  for i in ran:\n",
    "    city_dictionary[i]=\"SE\"\n",
    "  \n",
    "  \n",
    "  return city_dictionary\n",
    "\n",
    "\n",
    "  \n",
    "get_city_to_region(df)\n",
    "    \n"
   ]
  },
  {
   "cell_type": "code",
   "execution_count": 4,
   "id": "f3b1b27e-9742-4d58-bee0-c98ab22e2962",
   "metadata": {
    "deletable": false,
    "editable": false,
    "execution": {
     "iopub.execute_input": "2023-03-21T12:16:31.337216Z",
     "iopub.status.busy": "2023-03-21T12:16:31.337009Z",
     "iopub.status.idle": "2023-03-21T12:16:31.344894Z",
     "shell.execute_reply": "2023-03-21T12:16:31.344144Z"
    },
    "id": "f3b1b27e-9742-4d58-bee0-c98ab22e2962",
    "nbgrader": {
     "cell_type": "code",
     "checksum": "dcd159d9457a9412cb316fe677df7eb6",
     "grade": true,
     "grade_id": "cell-afeb66cb70f6b17b",
     "locked": true,
     "points": 1.5,
     "schema_version": 3,
     "solution": false,
     "task": false
    },
    "tags": []
   },
   "outputs": [],
   "source": [
    "# This is a 1.5 point test\n",
    "\n",
    "df = pd.read_csv(\"sales.csv\")\n",
    "assert type(get_city_to_region(df)) == dict, \"The return type should be a dictionary\""
   ]
  },
  {
   "cell_type": "code",
   "execution_count": 5,
   "id": "c33b97ff-d3e6-4429-ba09-2594ec6446fb",
   "metadata": {
    "deletable": false,
    "editable": false,
    "execution": {
     "iopub.execute_input": "2023-03-21T12:16:31.349571Z",
     "iopub.status.busy": "2023-03-21T12:16:31.349011Z",
     "iopub.status.idle": "2023-03-21T12:16:31.358321Z",
     "shell.execute_reply": "2023-03-21T12:16:31.357201Z"
    },
    "id": "c33b97ff-d3e6-4429-ba09-2594ec6446fb",
    "nbgrader": {
     "cell_type": "code",
     "checksum": "2f8653d62b3e8a1d237efac563e1b168",
     "grade": true,
     "grade_id": "cell-ceea47f120a2fa3b",
     "locked": true,
     "points": 1.5,
     "schema_version": 3,
     "solution": false,
     "task": false
    },
    "tags": []
   },
   "outputs": [],
   "source": [
    "# This is a 1.5 point test\n",
    "\n",
    "df = pd.read_csv(\"sales.csv\")\n",
    "assert get_city_to_region(df)[\"Atlanta\"] == \"SE\", \"The region for Atlanta should be SE\"\n",
    "assert get_city_to_region(df)[\"Boston\"] == \"NE\", \"The region for Boston should be NE\""
   ]
  },
  {
   "cell_type": "code",
   "execution_count": 6,
   "id": "0f20ee76-88d9-4621-91ee-520ab8d121d8",
   "metadata": {
    "deletable": false,
    "editable": false,
    "execution": {
     "iopub.execute_input": "2023-03-21T12:16:31.363650Z",
     "iopub.status.busy": "2023-03-21T12:16:31.363087Z",
     "iopub.status.idle": "2023-03-21T12:16:31.371408Z",
     "shell.execute_reply": "2023-03-21T12:16:31.370616Z"
    },
    "id": "0f20ee76-88d9-4621-91ee-520ab8d121d8",
    "nbgrader": {
     "cell_type": "code",
     "checksum": "79498bd7e3e29b8a38cd2258bdb35906",
     "grade": true,
     "grade_id": "cell-58470d4c0da303c6",
     "locked": true,
     "points": 1,
     "schema_version": 3,
     "solution": false,
     "task": false
    },
    "tags": []
   },
   "outputs": [],
   "source": [
    "# this is a 1 point hidden test of get_city_to_region\n",
    "\n",
    "### BEGIN HIDDEN TESTS\n",
    "\n",
    "df = pd.read_csv(\"sales.csv\")\n",
    "city2region = get_city_to_region(df)\n",
    "df = df.dropna()\n",
    "for city, region in zip(df['home_city'], df['sales_region']):\n",
    "    assert city2region[city] == region\n",
    "\n",
    "### END HIDDEN TESTS"
   ]
  },
  {
   "cell_type": "code",
   "execution_count": 7,
   "id": "41db7d0d-bbe5-4dbc-95c0-7b86899db232",
   "metadata": {
    "deletable": false,
    "execution": {
     "iopub.execute_input": "2023-03-21T12:16:31.376249Z",
     "iopub.status.busy": "2023-03-21T12:16:31.375985Z",
     "iopub.status.idle": "2023-03-21T12:16:31.380962Z",
     "shell.execute_reply": "2023-03-21T12:16:31.380047Z"
    },
    "id": "41db7d0d-bbe5-4dbc-95c0-7b86899db232",
    "nbgrader": {
     "cell_type": "code",
     "checksum": "230937d71de15d589ed49555ba725b40",
     "grade": false,
     "grade_id": "cell-4be48fd37bff33b8",
     "locked": false,
     "schema_version": 3,
     "solution": true,
     "task": false
    },
    "tags": []
   },
   "outputs": [],
   "source": [
    "def fill_in_regions(input_df: DataFrame) -> DataFrame:\n",
    "    '''\n",
    "    After some initial analysis, you realize that\n",
    "    some data is missing for some sales reps. The sales \n",
    "    rep's city is included in the data, but the region\n",
    "    is sometimes left out. \n",
    "    \n",
    "    Use your get_city_to_region function to fill in any\n",
    "    missing regions in the dataset. Then return the same \n",
    "    dataset with any missing regions filled in.\n",
    "\n",
    "    Again, be sure to look carefully at the data to understand how to \n",
    "    correctly fill out this function. Examine the output of\n",
    "    this function. Does it make sense?\n",
    "    '''\n",
    "\n",
    "    city2region = get_city_to_region(input_df)\n",
    "    # input_df[\"sales_region\"] = input_df[\"home_city\"].apply(lambda x: city2region[x])\n",
    "\n",
    "    for i, row in input_df.iterrows():\n",
    "      if pd.isnull(row[\"sales_region\"]):\n",
    "        city = row[\"home_city\"]\n",
    "        input_df.loc[i, \"sales_region\"] = city2region[city]\n",
    "    return input_df\n",
    "\n",
    "\n",
    "\n",
    "\n",
    "\n",
    "\n",
    "\n",
    "\n",
    "    \n",
    " \n",
    "\n",
    "\n",
    "\n",
    "        \n",
    "\n",
    "\n",
    "\n",
    "\n",
    "\n",
    "    "
   ]
  },
  {
   "cell_type": "code",
   "execution_count": null,
   "id": "zSRbOLhTswNw",
   "metadata": {
    "id": "zSRbOLhTswNw"
   },
   "outputs": [],
   "source": []
  },
  {
   "cell_type": "code",
   "execution_count": 8,
   "id": "12453e8d-3b61-48fe-86b2-9c433593202c",
   "metadata": {
    "deletable": false,
    "editable": false,
    "execution": {
     "iopub.execute_input": "2023-03-21T12:16:31.385028Z",
     "iopub.status.busy": "2023-03-21T12:16:31.384900Z",
     "iopub.status.idle": "2023-03-21T12:16:31.412990Z",
     "shell.execute_reply": "2023-03-21T12:16:31.411796Z"
    },
    "id": "12453e8d-3b61-48fe-86b2-9c433593202c",
    "nbgrader": {
     "cell_type": "code",
     "checksum": "7c3a165e6a43ac3e5bad19371caeb99b",
     "grade": true,
     "grade_id": "cell-15be49ef4210dd06",
     "locked": true,
     "points": 1,
     "schema_version": 3,
     "solution": false,
     "task": false
    },
    "tags": []
   },
   "outputs": [],
   "source": [
    "# This is a 1 point test\n",
    "\n",
    "df = pd.read_csv(\"sales.csv\")\n",
    "assert type(fill_in_regions(df)) == DataFrame, \"The return type should be a data frame\""
   ]
  },
  {
   "cell_type": "code",
   "execution_count": 9,
   "id": "711538fc-ec74-4351-9661-c04f05af8224",
   "metadata": {
    "deletable": false,
    "editable": false,
    "execution": {
     "iopub.execute_input": "2023-03-21T12:16:31.417945Z",
     "iopub.status.busy": "2023-03-21T12:16:31.417747Z",
     "iopub.status.idle": "2023-03-21T12:16:31.445872Z",
     "shell.execute_reply": "2023-03-21T12:16:31.444981Z"
    },
    "id": "711538fc-ec74-4351-9661-c04f05af8224",
    "nbgrader": {
     "cell_type": "code",
     "checksum": "655273a950cf4dbb1cd66be7f10d08eb",
     "grade": true,
     "grade_id": "cell-8285c78439ddc4b5",
     "locked": true,
     "points": 0.5,
     "schema_version": 3,
     "solution": false,
     "task": false
    },
    "tags": []
   },
   "outputs": [],
   "source": [
    "# This is a .5 point test\n",
    "\n",
    "df = pd.read_csv(\"sales.csv\")\n",
    "filled = fill_in_regions(df)\n",
    "assert set(filled[filled[\"home_city\"] == \"Boston\"][\"sales_region\"]) == {\"NE\"}, \"Sales reps from Boston should be in the NE region\""
   ]
  },
  {
   "cell_type": "code",
   "execution_count": 10,
   "id": "57ab8606-a9b3-45be-baca-443a0149314d",
   "metadata": {
    "deletable": false,
    "editable": false,
    "execution": {
     "iopub.execute_input": "2023-03-21T12:16:31.450730Z",
     "iopub.status.busy": "2023-03-21T12:16:31.450405Z",
     "iopub.status.idle": "2023-03-21T12:16:31.473472Z",
     "shell.execute_reply": "2023-03-21T12:16:31.472432Z"
    },
    "id": "57ab8606-a9b3-45be-baca-443a0149314d",
    "nbgrader": {
     "cell_type": "code",
     "checksum": "0a579486c90c97aaa912637cb246ae75",
     "grade": true,
     "grade_id": "cell-f4d9210a50b6eea1",
     "locked": true,
     "points": 0.5,
     "schema_version": 3,
     "solution": false,
     "task": false
    },
    "tags": []
   },
   "outputs": [],
   "source": [
    "# This is a .5 point test\n",
    "\n",
    "df = pd.read_csv(\"sales.csv\")\n",
    "filled = fill_in_regions(df)\n",
    "assert filled[\"home_city\"].isna().sum() == 0, \"There should not be any null values in your answer\""
   ]
  },
  {
   "cell_type": "code",
   "execution_count": 11,
   "id": "e0b9c2c9-4d34-4b94-8f77-b399c5a2d086",
   "metadata": {
    "colab": {
     "base_uri": "https://localhost:8080/",
     "height": 206
    },
    "deletable": false,
    "execution": {
     "iopub.execute_input": "2023-03-21T12:16:31.477979Z",
     "iopub.status.busy": "2023-03-21T12:16:31.477411Z",
     "iopub.status.idle": "2023-03-21T12:16:31.506007Z",
     "shell.execute_reply": "2023-03-21T12:16:31.505187Z"
    },
    "id": "e0b9c2c9-4d34-4b94-8f77-b399c5a2d086",
    "nbgrader": {
     "cell_type": "code",
     "checksum": "f8f9c6be5b92045a320c6342a4e5e182",
     "grade": false,
     "grade_id": "cell-a950fdfef9bb4732",
     "locked": false,
     "schema_version": 3,
     "solution": true,
     "task": false
    },
    "outputId": "3c8bad42-718c-430a-820a-b80c5a4783a3",
    "tags": []
   },
   "outputs": [
    {
     "data": {
      "text/html": [
       "<div>\n",
       "<style scoped>\n",
       "    .dataframe tbody tr th:only-of-type {\n",
       "        vertical-align: middle;\n",
       "    }\n",
       "\n",
       "    .dataframe tbody tr th {\n",
       "        vertical-align: top;\n",
       "    }\n",
       "\n",
       "    .dataframe thead th {\n",
       "        text-align: right;\n",
       "    }\n",
       "</style>\n",
       "<table border=\"1\" class=\"dataframe\">\n",
       "  <thead>\n",
       "    <tr style=\"text-align: right;\">\n",
       "      <th></th>\n",
       "      <th>base_pay</th>\n",
       "      <th>sales</th>\n",
       "    </tr>\n",
       "    <tr>\n",
       "      <th>sales_region</th>\n",
       "      <th></th>\n",
       "      <th></th>\n",
       "    </tr>\n",
       "  </thead>\n",
       "  <tbody>\n",
       "    <tr>\n",
       "      <th>NE</th>\n",
       "      <td>11564.705882</td>\n",
       "      <td>2546.058824</td>\n",
       "    </tr>\n",
       "    <tr>\n",
       "      <th>NW</th>\n",
       "      <td>11709.433962</td>\n",
       "      <td>2375.845283</td>\n",
       "    </tr>\n",
       "    <tr>\n",
       "      <th>SE</th>\n",
       "      <td>11493.877551</td>\n",
       "      <td>2500.816327</td>\n",
       "    </tr>\n",
       "    <tr>\n",
       "      <th>SW</th>\n",
       "      <td>11378.723404</td>\n",
       "      <td>2590.740426</td>\n",
       "    </tr>\n",
       "  </tbody>\n",
       "</table>\n",
       "</div>"
      ],
      "text/plain": [
       "                  base_pay        sales\n",
       "sales_region                           \n",
       "NE            11564.705882  2546.058824\n",
       "NW            11709.433962  2375.845283\n",
       "SE            11493.877551  2500.816327\n",
       "SW            11378.723404  2590.740426"
      ]
     },
     "execution_count": 11,
     "metadata": {},
     "output_type": "execute_result"
    }
   ],
   "source": [
    "def mean_sales_by_region(input_df: DataFrame) -> DataFrame:\n",
    "    '''\n",
    "    This is a one point function.\n",
    "    Return the mean sales by region for the dataframe\n",
    "    \n",
    "    Use the region as the index for the output dataframe. If you pass the next\n",
    "    test, you have done that\n",
    "    '''\n",
    "    input_df = fill_in_regions(input_df)\n",
    "    input_df = input_df.drop(\"sales_rep_id_number\", axis=1)\n",
    "    # input_df.groupby(\"sales_region\")[\"sales\"].mean().apply(print)\n",
    "    mean_sales = input_df.groupby('sales_region').mean(numeric_only=True)\n",
    "    return mean_sales\n",
    "mean_sales_by_region(df)"
   ]
  },
  {
   "cell_type": "code",
   "execution_count": null,
   "id": "6PhWIQgcyxcK",
   "metadata": {
    "id": "6PhWIQgcyxcK"
   },
   "outputs": [],
   "source": []
  },
  {
   "cell_type": "code",
   "execution_count": 12,
   "id": "09c1097e-47b2-4c93-9013-9c9e3aa23590",
   "metadata": {
    "deletable": false,
    "editable": false,
    "execution": {
     "iopub.execute_input": "2023-03-21T12:16:31.510437Z",
     "iopub.status.busy": "2023-03-21T12:16:31.510176Z",
     "iopub.status.idle": "2023-03-21T12:16:31.535233Z",
     "shell.execute_reply": "2023-03-21T12:16:31.534428Z"
    },
    "id": "09c1097e-47b2-4c93-9013-9c9e3aa23590",
    "nbgrader": {
     "cell_type": "code",
     "checksum": "bcec19e70c6e682f9e5290e2f9a07afe",
     "grade": true,
     "grade_id": "cell-9d9dbec85a3a0c3b",
     "locked": true,
     "points": 0.5,
     "schema_version": 3,
     "solution": false,
     "task": false
    },
    "tags": []
   },
   "outputs": [],
   "source": [
    "# This is a .5 point test\n",
    "assert int(mean_sales_by_region(df).loc[\"NE\"][\"sales\"]) == 2546"
   ]
  },
  {
   "cell_type": "code",
   "execution_count": 13,
   "id": "6238d45e-898b-406e-8608-3ba8c5d0cf23",
   "metadata": {
    "deletable": false,
    "editable": false,
    "execution": {
     "iopub.execute_input": "2023-03-21T12:16:31.539443Z",
     "iopub.status.busy": "2023-03-21T12:16:31.539325Z",
     "iopub.status.idle": "2023-03-21T12:16:31.568990Z",
     "shell.execute_reply": "2023-03-21T12:16:31.566663Z"
    },
    "id": "6238d45e-898b-406e-8608-3ba8c5d0cf23",
    "nbgrader": {
     "cell_type": "code",
     "checksum": "e3e8afebb4f21514b95c1a0177fa19eb",
     "grade": true,
     "grade_id": "cell-6c8f9c27bd99ca9d",
     "locked": true,
     "points": 1,
     "schema_version": 3,
     "solution": false,
     "task": false
    },
    "tags": []
   },
   "outputs": [],
   "source": [
    "# This is a 1 point test\n",
    "\n",
    "total = mean_sales_by_region(df).reset_index()[\"sales\"].sum()\n",
    "assert round(total) == 10013"
   ]
  },
  {
   "cell_type": "code",
   "execution_count": 14,
   "id": "15ffee97-d798-47ab-a5ef-d14b8abf16a5",
   "metadata": {
    "deletable": false,
    "editable": false,
    "execution": {
     "iopub.execute_input": "2023-03-21T12:16:31.574984Z",
     "iopub.status.busy": "2023-03-21T12:16:31.574717Z",
     "iopub.status.idle": "2023-03-21T12:16:31.595184Z",
     "shell.execute_reply": "2023-03-21T12:16:31.594198Z"
    },
    "id": "15ffee97-d798-47ab-a5ef-d14b8abf16a5",
    "nbgrader": {
     "cell_type": "code",
     "checksum": "51cbae105ae4d8124244e6142ed634f2",
     "grade": true,
     "grade_id": "cell-263a7fb5eefc259a",
     "locked": true,
     "points": 1,
     "schema_version": 3,
     "solution": false,
     "task": false
    },
    "tags": []
   },
   "outputs": [],
   "source": [
    "# This is a 1 point hidden test\n",
    "\n",
    "### BEGIN HIDDEN TESTS\n",
    "df = pd.read_csv(\"sales.csv\")\n",
    "mini = df.head(100).copy()\n",
    "total = mean_sales_by_region(mini).reset_index()[\"sales\"].sum()\n",
    "assert round(total) == 9991, round(total) \n",
    "### END HIDDEN TESTS"
   ]
  },
  {
   "cell_type": "markdown",
   "id": "bedd9ff5-28ad-4ddb-a994-3366f490d1f0",
   "metadata": {
    "deletable": false,
    "editable": false,
    "id": "bedd9ff5-28ad-4ddb-a994-3366f490d1f0",
    "nbgrader": {
     "cell_type": "markdown",
     "checksum": "5efe77d5a5b255d7ceaaae8309760e34",
     "grade": false,
     "grade_id": "cell-7839b0cbf5286ead",
     "locked": true,
     "schema_version": 3,
     "solution": false,
     "task": false
    },
    "tags": []
   },
   "source": [
    "### Challenge problem \n",
    "- The challenge problem is hard! If you get everything but the challenge problem you will earn 8.5/10 on the assignment\n",
    "- Say you have a Series of numerical values. One value will be the biggest, one will be the smallest.\n",
    "- There will be some value that is at the midpoint of the series, meaning it is bigger than 1/2 of the elements of the series and smaller than half of the elements of the series.\n",
    "- We can describe this value as the 50th percentile\n",
    "- Similarly, if we have some value that is bigger than 10% of a series, we can call it the 10th percentile.\n",
    "- To get percentiles in pandas you use the quantile function [quantile](https://pandas.pydata.org/docs/reference/api/pandas.DataFrame.quantile.html) function.\n",
    "- This will return the value of a series which is higher than a fraction `q` of a series\n",
    "- For instance, if `q=.6` then the quantile function will return a value that is bigger than 60% of the other values in the series."
   ]
  },
  {
   "cell_type": "code",
   "execution_count": 15,
   "id": "272f4849-76e9-4baf-aee3-6e83f0bd9821",
   "metadata": {
    "colab": {
     "base_uri": "https://localhost:8080/"
    },
    "execution": {
     "iopub.execute_input": "2023-03-21T12:16:31.600697Z",
     "iopub.status.busy": "2023-03-21T12:16:31.600340Z",
     "iopub.status.idle": "2023-03-21T12:16:31.608905Z",
     "shell.execute_reply": "2023-03-21T12:16:31.608081Z"
    },
    "id": "272f4849-76e9-4baf-aee3-6e83f0bd9821",
    "outputId": "be9dcaad-456e-4da9-d273-db8fd4b3ad76"
   },
   "outputs": [
    {
     "data": {
      "text/plain": [
       "599.4"
      ]
     },
     "execution_count": 15,
     "metadata": {},
     "output_type": "execute_result"
    }
   ],
   "source": [
    "# here is an example of the quantile function\n",
    "example = []\n",
    "for n in range(1000):\n",
    "    example.append({\"value\": n})\n",
    "dfmini = pd.DataFrame(example)\n",
    "\n",
    "dfmini['value'].quantile(q=.6) # note this value is amgiguous, 599.8 would also work"
   ]
  },
  {
   "cell_type": "markdown",
   "id": "40b38452-dd6b-4c7a-877e-3870d593b12b",
   "metadata": {
    "id": "40b38452-dd6b-4c7a-877e-3870d593b12b"
   },
   "source": [
    "For the challenge problem, add a new column to the dataframe called `bonus` which sets a Boolean to True for all workers who sell more than 98% other sales reps **in their region**. The `bonus` column should be False otherwise.\n",
    "\n",
    "**Important** your code must run without any pandas warnings to get full credit for the assignment. You may have to do a little research online and do a little thinking to find out how to resolve any warnings. Understanding how top to resolve and fix pandas warnings is an important programming skill. A warning will appear as a little box with an error message below your code. If you don't see a box like this, you don't have any warnings.\n",
    "\n",
    "_Hint_: One possible warning you might see when coding will arise if you try to set values on a subset of a dataframe. Think about ways to avoid this."
   ]
  },
  {
   "cell_type": "code",
   "execution_count": 16,
   "id": "6aa71459-c6d8-4ab0-b846-bfeed05a8378",
   "metadata": {
    "deletable": false,
    "execution": {
     "iopub.execute_input": "2023-03-21T12:16:31.613557Z",
     "iopub.status.busy": "2023-03-21T12:16:31.613185Z",
     "iopub.status.idle": "2023-03-21T12:16:31.618280Z",
     "shell.execute_reply": "2023-03-21T12:16:31.616999Z"
    },
    "id": "6aa71459-c6d8-4ab0-b846-bfeed05a8378",
    "nbgrader": {
     "cell_type": "code",
     "checksum": "2a12ff77a273229f17d45bb93bcd1a35",
     "grade": false,
     "grade_id": "cell-c19c370748b4b272",
     "locked": false,
     "schema_version": 3,
     "solution": true,
     "task": false
    },
    "tags": []
   },
   "outputs": [],
   "source": [
    "def bonus_workers(input_df):\n",
    "    '''\n",
    "    Return the same data frame with an \n",
    "    additional boolean column set to True \n",
    "    for all sales reps who had sales that were\n",
    "    higher than 98% of other reps in their **region**\n",
    "    '''\n",
    "    # YOUR CODE HERE\n",
    "    df = pd.read_csv(\"sales.csv\")\n",
    "    df2 = bonus_workers(df)\n",
    "\n",
    "    input_df = fill_in_regions(input_df)\n",
    "\n",
    "    region_sales = input_df.groupby(\"sales_region\")[\"sales\"].quantile(q=0.98)\n",
    "\n",
    "    input_df = input_df.merge(region_sales, on=\"sales_region\", suffixes=(\"\", \"_98\"))\n",
    "\n",
    "    input_df[\"bonus\"] = input_df[\"sales\"] > input_df[\"sales_98\"]\n",
    "\n",
    "    input_df = input_df.drop(\"sales_98\", axis=1)\n",
    "    return input_df"
   ]
  },
  {
   "cell_type": "code",
   "execution_count": 17,
   "id": "0f11489a-a716-4edf-8bf6-56689cd9a0df",
   "metadata": {
    "deletable": false,
    "editable": false,
    "execution": {
     "iopub.execute_input": "2023-03-21T12:16:31.621347Z",
     "iopub.status.busy": "2023-03-21T12:16:31.621110Z",
     "iopub.status.idle": "2023-03-21T12:16:35.749555Z",
     "shell.execute_reply": "2023-03-21T12:16:35.748887Z"
    },
    "id": "0f11489a-a716-4edf-8bf6-56689cd9a0df",
    "nbgrader": {
     "cell_type": "code",
     "checksum": "d271859728c62f518ad816148462506e",
     "grade": true,
     "grade_id": "cell-ba1f84391f8c2ed3",
     "locked": true,
     "points": 1.5,
     "schema_version": 3,
     "solution": false,
     "task": false
    },
    "tags": []
   },
   "outputs": [
    {
     "ename": "RecursionError",
     "evalue": "maximum recursion depth exceeded in comparison",
     "output_type": "error",
     "traceback": [
      "\u001b[0;31m---------------------------------------------------------------------------\u001b[0m",
      "\u001b[0;31mRecursionError\u001b[0m                            Traceback (most recent call last)",
      "Cell \u001b[0;32mIn[17], line 6\u001b[0m\n\u001b[1;32m      4\u001b[0m \u001b[38;5;28;01mimport\u001b[39;00m \u001b[38;5;21;01mpandas\u001b[39;00m \u001b[38;5;28;01mas\u001b[39;00m \u001b[38;5;21;01mpd\u001b[39;00m\n\u001b[1;32m      5\u001b[0m df \u001b[38;5;241m=\u001b[39m pd\u001b[38;5;241m.\u001b[39mread_csv(\u001b[38;5;124m\"\u001b[39m\u001b[38;5;124msales.csv\u001b[39m\u001b[38;5;124m\"\u001b[39m)\n\u001b[0;32m----> 6\u001b[0m df2 \u001b[38;5;241m=\u001b[39m \u001b[43mbonus_workers\u001b[49m\u001b[43m(\u001b[49m\u001b[43mdf\u001b[49m\u001b[43m)\u001b[49m\n\u001b[1;32m      7\u001b[0m \u001b[38;5;28;01massert\u001b[39;00m \u001b[38;5;241m8294\u001b[39m \u001b[38;5;129;01min\u001b[39;00m df2[df2[\u001b[38;5;124m\"\u001b[39m\u001b[38;5;124mbonus\u001b[39m\u001b[38;5;124m\"\u001b[39m]][\u001b[38;5;124m\"\u001b[39m\u001b[38;5;124msales_rep_id_number\u001b[39m\u001b[38;5;124m\"\u001b[39m]\u001b[38;5;241m.\u001b[39mto_list()\n\u001b[1;32m      8\u001b[0m \u001b[38;5;28;01massert\u001b[39;00m \u001b[38;5;241m9787\u001b[39m \u001b[38;5;129;01min\u001b[39;00m df2[df2[\u001b[38;5;124m\"\u001b[39m\u001b[38;5;124mbonus\u001b[39m\u001b[38;5;124m\"\u001b[39m]][\u001b[38;5;124m\"\u001b[39m\u001b[38;5;124msales_rep_id_number\u001b[39m\u001b[38;5;124m\"\u001b[39m]\u001b[38;5;241m.\u001b[39mto_list()\n",
      "Cell \u001b[0;32mIn[16], line 10\u001b[0m, in \u001b[0;36mbonus_workers\u001b[0;34m(input_df)\u001b[0m\n\u001b[1;32m      8\u001b[0m \u001b[38;5;66;03m# YOUR CODE HERE\u001b[39;00m\n\u001b[1;32m      9\u001b[0m df \u001b[38;5;241m=\u001b[39m pd\u001b[38;5;241m.\u001b[39mread_csv(\u001b[38;5;124m\"\u001b[39m\u001b[38;5;124msales.csv\u001b[39m\u001b[38;5;124m\"\u001b[39m)\n\u001b[0;32m---> 10\u001b[0m df2 \u001b[38;5;241m=\u001b[39m \u001b[43mbonus_workers\u001b[49m\u001b[43m(\u001b[49m\u001b[43mdf\u001b[49m\u001b[43m)\u001b[49m\n\u001b[1;32m     12\u001b[0m input_df \u001b[38;5;241m=\u001b[39m fill_in_regions(input_df)\n\u001b[1;32m     14\u001b[0m region_sales \u001b[38;5;241m=\u001b[39m input_df\u001b[38;5;241m.\u001b[39mgroupby(\u001b[38;5;124m\"\u001b[39m\u001b[38;5;124msales_region\u001b[39m\u001b[38;5;124m\"\u001b[39m)[\u001b[38;5;124m\"\u001b[39m\u001b[38;5;124msales\u001b[39m\u001b[38;5;124m\"\u001b[39m]\u001b[38;5;241m.\u001b[39mquantile(q\u001b[38;5;241m=\u001b[39m\u001b[38;5;241m0.98\u001b[39m)\n",
      "Cell \u001b[0;32mIn[16], line 10\u001b[0m, in \u001b[0;36mbonus_workers\u001b[0;34m(input_df)\u001b[0m\n\u001b[1;32m      8\u001b[0m \u001b[38;5;66;03m# YOUR CODE HERE\u001b[39;00m\n\u001b[1;32m      9\u001b[0m df \u001b[38;5;241m=\u001b[39m pd\u001b[38;5;241m.\u001b[39mread_csv(\u001b[38;5;124m\"\u001b[39m\u001b[38;5;124msales.csv\u001b[39m\u001b[38;5;124m\"\u001b[39m)\n\u001b[0;32m---> 10\u001b[0m df2 \u001b[38;5;241m=\u001b[39m \u001b[43mbonus_workers\u001b[49m\u001b[43m(\u001b[49m\u001b[43mdf\u001b[49m\u001b[43m)\u001b[49m\n\u001b[1;32m     12\u001b[0m input_df \u001b[38;5;241m=\u001b[39m fill_in_regions(input_df)\n\u001b[1;32m     14\u001b[0m region_sales \u001b[38;5;241m=\u001b[39m input_df\u001b[38;5;241m.\u001b[39mgroupby(\u001b[38;5;124m\"\u001b[39m\u001b[38;5;124msales_region\u001b[39m\u001b[38;5;124m\"\u001b[39m)[\u001b[38;5;124m\"\u001b[39m\u001b[38;5;124msales\u001b[39m\u001b[38;5;124m\"\u001b[39m]\u001b[38;5;241m.\u001b[39mquantile(q\u001b[38;5;241m=\u001b[39m\u001b[38;5;241m0.98\u001b[39m)\n",
      "    \u001b[0;31m[... skipping similar frames: bonus_workers at line 10 (2944 times)]\u001b[0m\n",
      "Cell \u001b[0;32mIn[16], line 10\u001b[0m, in \u001b[0;36mbonus_workers\u001b[0;34m(input_df)\u001b[0m\n\u001b[1;32m      8\u001b[0m \u001b[38;5;66;03m# YOUR CODE HERE\u001b[39;00m\n\u001b[1;32m      9\u001b[0m df \u001b[38;5;241m=\u001b[39m pd\u001b[38;5;241m.\u001b[39mread_csv(\u001b[38;5;124m\"\u001b[39m\u001b[38;5;124msales.csv\u001b[39m\u001b[38;5;124m\"\u001b[39m)\n\u001b[0;32m---> 10\u001b[0m df2 \u001b[38;5;241m=\u001b[39m \u001b[43mbonus_workers\u001b[49m\u001b[43m(\u001b[49m\u001b[43mdf\u001b[49m\u001b[43m)\u001b[49m\n\u001b[1;32m     12\u001b[0m input_df \u001b[38;5;241m=\u001b[39m fill_in_regions(input_df)\n\u001b[1;32m     14\u001b[0m region_sales \u001b[38;5;241m=\u001b[39m input_df\u001b[38;5;241m.\u001b[39mgroupby(\u001b[38;5;124m\"\u001b[39m\u001b[38;5;124msales_region\u001b[39m\u001b[38;5;124m\"\u001b[39m)[\u001b[38;5;124m\"\u001b[39m\u001b[38;5;124msales\u001b[39m\u001b[38;5;124m\"\u001b[39m]\u001b[38;5;241m.\u001b[39mquantile(q\u001b[38;5;241m=\u001b[39m\u001b[38;5;241m0.98\u001b[39m)\n",
      "Cell \u001b[0;32mIn[16], line 9\u001b[0m, in \u001b[0;36mbonus_workers\u001b[0;34m(input_df)\u001b[0m\n\u001b[1;32m      2\u001b[0m \u001b[38;5;250m\u001b[39m\u001b[38;5;124;03m'''\u001b[39;00m\n\u001b[1;32m      3\u001b[0m \u001b[38;5;124;03mReturn the same data frame with an \u001b[39;00m\n\u001b[1;32m      4\u001b[0m \u001b[38;5;124;03madditional boolean column set to True \u001b[39;00m\n\u001b[1;32m      5\u001b[0m \u001b[38;5;124;03mfor all sales reps who had sales that were\u001b[39;00m\n\u001b[1;32m      6\u001b[0m \u001b[38;5;124;03mhigher than 98% of other reps in their **region**\u001b[39;00m\n\u001b[1;32m      7\u001b[0m \u001b[38;5;124;03m'''\u001b[39;00m\n\u001b[1;32m      8\u001b[0m \u001b[38;5;66;03m# YOUR CODE HERE\u001b[39;00m\n\u001b[0;32m----> 9\u001b[0m df \u001b[38;5;241m=\u001b[39m \u001b[43mpd\u001b[49m\u001b[38;5;241;43m.\u001b[39;49m\u001b[43mread_csv\u001b[49m\u001b[43m(\u001b[49m\u001b[38;5;124;43m\"\u001b[39;49m\u001b[38;5;124;43msales.csv\u001b[39;49m\u001b[38;5;124;43m\"\u001b[39;49m\u001b[43m)\u001b[49m\n\u001b[1;32m     10\u001b[0m df2 \u001b[38;5;241m=\u001b[39m bonus_workers(df)\n\u001b[1;32m     12\u001b[0m input_df \u001b[38;5;241m=\u001b[39m fill_in_regions(input_df)\n",
      "File \u001b[0;32m/opt/homebrew/anaconda3/envs/BAIM/lib/python3.11/site-packages/pandas/util/_decorators.py:211\u001b[0m, in \u001b[0;36mdeprecate_kwarg.<locals>._deprecate_kwarg.<locals>.wrapper\u001b[0;34m(*args, **kwargs)\u001b[0m\n\u001b[1;32m    209\u001b[0m     \u001b[38;5;28;01melse\u001b[39;00m:\n\u001b[1;32m    210\u001b[0m         kwargs[new_arg_name] \u001b[38;5;241m=\u001b[39m new_arg_value\n\u001b[0;32m--> 211\u001b[0m \u001b[38;5;28;01mreturn\u001b[39;00m \u001b[43mfunc\u001b[49m\u001b[43m(\u001b[49m\u001b[38;5;241;43m*\u001b[39;49m\u001b[43margs\u001b[49m\u001b[43m,\u001b[49m\u001b[43m \u001b[49m\u001b[38;5;241;43m*\u001b[39;49m\u001b[38;5;241;43m*\u001b[39;49m\u001b[43mkwargs\u001b[49m\u001b[43m)\u001b[49m\n",
      "File \u001b[0;32m/opt/homebrew/anaconda3/envs/BAIM/lib/python3.11/site-packages/pandas/util/_decorators.py:331\u001b[0m, in \u001b[0;36mdeprecate_nonkeyword_arguments.<locals>.decorate.<locals>.wrapper\u001b[0;34m(*args, **kwargs)\u001b[0m\n\u001b[1;32m    325\u001b[0m \u001b[38;5;28;01mif\u001b[39;00m \u001b[38;5;28mlen\u001b[39m(args) \u001b[38;5;241m>\u001b[39m num_allow_args:\n\u001b[1;32m    326\u001b[0m     warnings\u001b[38;5;241m.\u001b[39mwarn(\n\u001b[1;32m    327\u001b[0m         msg\u001b[38;5;241m.\u001b[39mformat(arguments\u001b[38;5;241m=\u001b[39m_format_argument_list(allow_args)),\n\u001b[1;32m    328\u001b[0m         \u001b[38;5;167;01mFutureWarning\u001b[39;00m,\n\u001b[1;32m    329\u001b[0m         stacklevel\u001b[38;5;241m=\u001b[39mfind_stack_level(),\n\u001b[1;32m    330\u001b[0m     )\n\u001b[0;32m--> 331\u001b[0m \u001b[38;5;28;01mreturn\u001b[39;00m \u001b[43mfunc\u001b[49m\u001b[43m(\u001b[49m\u001b[38;5;241;43m*\u001b[39;49m\u001b[43margs\u001b[49m\u001b[43m,\u001b[49m\u001b[43m \u001b[49m\u001b[38;5;241;43m*\u001b[39;49m\u001b[38;5;241;43m*\u001b[39;49m\u001b[43mkwargs\u001b[49m\u001b[43m)\u001b[49m\n",
      "File \u001b[0;32m/opt/homebrew/anaconda3/envs/BAIM/lib/python3.11/site-packages/pandas/io/parsers/readers.py:950\u001b[0m, in \u001b[0;36mread_csv\u001b[0;34m(filepath_or_buffer, sep, delimiter, header, names, index_col, usecols, squeeze, prefix, mangle_dupe_cols, dtype, engine, converters, true_values, false_values, skipinitialspace, skiprows, skipfooter, nrows, na_values, keep_default_na, na_filter, verbose, skip_blank_lines, parse_dates, infer_datetime_format, keep_date_col, date_parser, dayfirst, cache_dates, iterator, chunksize, compression, thousands, decimal, lineterminator, quotechar, quoting, doublequote, escapechar, comment, encoding, encoding_errors, dialect, error_bad_lines, warn_bad_lines, on_bad_lines, delim_whitespace, low_memory, memory_map, float_precision, storage_options)\u001b[0m\n\u001b[1;32m    935\u001b[0m kwds_defaults \u001b[38;5;241m=\u001b[39m _refine_defaults_read(\n\u001b[1;32m    936\u001b[0m     dialect,\n\u001b[1;32m    937\u001b[0m     delimiter,\n\u001b[0;32m   (...)\u001b[0m\n\u001b[1;32m    946\u001b[0m     defaults\u001b[38;5;241m=\u001b[39m{\u001b[38;5;124m\"\u001b[39m\u001b[38;5;124mdelimiter\u001b[39m\u001b[38;5;124m\"\u001b[39m: \u001b[38;5;124m\"\u001b[39m\u001b[38;5;124m,\u001b[39m\u001b[38;5;124m\"\u001b[39m},\n\u001b[1;32m    947\u001b[0m )\n\u001b[1;32m    948\u001b[0m kwds\u001b[38;5;241m.\u001b[39mupdate(kwds_defaults)\n\u001b[0;32m--> 950\u001b[0m \u001b[38;5;28;01mreturn\u001b[39;00m \u001b[43m_read\u001b[49m\u001b[43m(\u001b[49m\u001b[43mfilepath_or_buffer\u001b[49m\u001b[43m,\u001b[49m\u001b[43m \u001b[49m\u001b[43mkwds\u001b[49m\u001b[43m)\u001b[49m\n",
      "File \u001b[0;32m/opt/homebrew/anaconda3/envs/BAIM/lib/python3.11/site-packages/pandas/io/parsers/readers.py:611\u001b[0m, in \u001b[0;36m_read\u001b[0;34m(filepath_or_buffer, kwds)\u001b[0m\n\u001b[1;32m    608\u001b[0m     \u001b[38;5;28;01mreturn\u001b[39;00m parser\n\u001b[1;32m    610\u001b[0m \u001b[38;5;28;01mwith\u001b[39;00m parser:\n\u001b[0;32m--> 611\u001b[0m     \u001b[38;5;28;01mreturn\u001b[39;00m \u001b[43mparser\u001b[49m\u001b[38;5;241;43m.\u001b[39;49m\u001b[43mread\u001b[49m\u001b[43m(\u001b[49m\u001b[43mnrows\u001b[49m\u001b[43m)\u001b[49m\n",
      "File \u001b[0;32m/opt/homebrew/anaconda3/envs/BAIM/lib/python3.11/site-packages/pandas/io/parsers/readers.py:1795\u001b[0m, in \u001b[0;36mTextFileReader.read\u001b[0;34m(self, nrows)\u001b[0m\n\u001b[1;32m   1792\u001b[0m     \u001b[38;5;28;01melse\u001b[39;00m:\n\u001b[1;32m   1793\u001b[0m         new_rows \u001b[38;5;241m=\u001b[39m \u001b[38;5;28mlen\u001b[39m(index)\n\u001b[0;32m-> 1795\u001b[0m     df \u001b[38;5;241m=\u001b[39m \u001b[43mDataFrame\u001b[49m\u001b[43m(\u001b[49m\u001b[43mcol_dict\u001b[49m\u001b[43m,\u001b[49m\u001b[43m \u001b[49m\u001b[43mcolumns\u001b[49m\u001b[38;5;241;43m=\u001b[39;49m\u001b[43mcolumns\u001b[49m\u001b[43m,\u001b[49m\u001b[43m \u001b[49m\u001b[43mindex\u001b[49m\u001b[38;5;241;43m=\u001b[39;49m\u001b[43mindex\u001b[49m\u001b[43m)\u001b[49m\n\u001b[1;32m   1797\u001b[0m     \u001b[38;5;28mself\u001b[39m\u001b[38;5;241m.\u001b[39m_currow \u001b[38;5;241m+\u001b[39m\u001b[38;5;241m=\u001b[39m new_rows\n\u001b[1;32m   1799\u001b[0m \u001b[38;5;28;01mif\u001b[39;00m \u001b[38;5;28mself\u001b[39m\u001b[38;5;241m.\u001b[39msqueeze \u001b[38;5;129;01mand\u001b[39;00m \u001b[38;5;28mlen\u001b[39m(df\u001b[38;5;241m.\u001b[39mcolumns) \u001b[38;5;241m==\u001b[39m \u001b[38;5;241m1\u001b[39m:\n",
      "File \u001b[0;32m/opt/homebrew/anaconda3/envs/BAIM/lib/python3.11/site-packages/pandas/core/frame.py:664\u001b[0m, in \u001b[0;36mDataFrame.__init__\u001b[0;34m(self, data, index, columns, dtype, copy)\u001b[0m\n\u001b[1;32m    658\u001b[0m     mgr \u001b[38;5;241m=\u001b[39m \u001b[38;5;28mself\u001b[39m\u001b[38;5;241m.\u001b[39m_init_mgr(\n\u001b[1;32m    659\u001b[0m         data, axes\u001b[38;5;241m=\u001b[39m{\u001b[38;5;124m\"\u001b[39m\u001b[38;5;124mindex\u001b[39m\u001b[38;5;124m\"\u001b[39m: index, \u001b[38;5;124m\"\u001b[39m\u001b[38;5;124mcolumns\u001b[39m\u001b[38;5;124m\"\u001b[39m: columns}, dtype\u001b[38;5;241m=\u001b[39mdtype, copy\u001b[38;5;241m=\u001b[39mcopy\n\u001b[1;32m    660\u001b[0m     )\n\u001b[1;32m    662\u001b[0m \u001b[38;5;28;01melif\u001b[39;00m \u001b[38;5;28misinstance\u001b[39m(data, \u001b[38;5;28mdict\u001b[39m):\n\u001b[1;32m    663\u001b[0m     \u001b[38;5;66;03m# GH#38939 de facto copy defaults to False only in non-dict cases\u001b[39;00m\n\u001b[0;32m--> 664\u001b[0m     mgr \u001b[38;5;241m=\u001b[39m \u001b[43mdict_to_mgr\u001b[49m\u001b[43m(\u001b[49m\u001b[43mdata\u001b[49m\u001b[43m,\u001b[49m\u001b[43m \u001b[49m\u001b[43mindex\u001b[49m\u001b[43m,\u001b[49m\u001b[43m \u001b[49m\u001b[43mcolumns\u001b[49m\u001b[43m,\u001b[49m\u001b[43m \u001b[49m\u001b[43mdtype\u001b[49m\u001b[38;5;241;43m=\u001b[39;49m\u001b[43mdtype\u001b[49m\u001b[43m,\u001b[49m\u001b[43m \u001b[49m\u001b[43mcopy\u001b[49m\u001b[38;5;241;43m=\u001b[39;49m\u001b[43mcopy\u001b[49m\u001b[43m,\u001b[49m\u001b[43m \u001b[49m\u001b[43mtyp\u001b[49m\u001b[38;5;241;43m=\u001b[39;49m\u001b[43mmanager\u001b[49m\u001b[43m)\u001b[49m\n\u001b[1;32m    665\u001b[0m \u001b[38;5;28;01melif\u001b[39;00m \u001b[38;5;28misinstance\u001b[39m(data, ma\u001b[38;5;241m.\u001b[39mMaskedArray):\n\u001b[1;32m    666\u001b[0m     \u001b[38;5;28;01mimport\u001b[39;00m \u001b[38;5;21;01mnumpy\u001b[39;00m\u001b[38;5;21;01m.\u001b[39;00m\u001b[38;5;21;01mma\u001b[39;00m\u001b[38;5;21;01m.\u001b[39;00m\u001b[38;5;21;01mmrecords\u001b[39;00m \u001b[38;5;28;01mas\u001b[39;00m \u001b[38;5;21;01mmrecords\u001b[39;00m\n",
      "File \u001b[0;32m/opt/homebrew/anaconda3/envs/BAIM/lib/python3.11/site-packages/pandas/core/internals/construction.py:443\u001b[0m, in \u001b[0;36mdict_to_mgr\u001b[0;34m(data, index, columns, dtype, typ, copy)\u001b[0m\n\u001b[1;32m    440\u001b[0m \u001b[38;5;28;01mif\u001b[39;00m columns \u001b[38;5;129;01mis\u001b[39;00m \u001b[38;5;129;01mnot\u001b[39;00m \u001b[38;5;28;01mNone\u001b[39;00m:\n\u001b[1;32m    441\u001b[0m     \u001b[38;5;28;01mfrom\u001b[39;00m \u001b[38;5;21;01mpandas\u001b[39;00m\u001b[38;5;21;01m.\u001b[39;00m\u001b[38;5;21;01mcore\u001b[39;00m\u001b[38;5;21;01m.\u001b[39;00m\u001b[38;5;21;01mseries\u001b[39;00m \u001b[38;5;28;01mimport\u001b[39;00m Series\n\u001b[0;32m--> 443\u001b[0m     arrays \u001b[38;5;241m=\u001b[39m \u001b[43mSeries\u001b[49m\u001b[43m(\u001b[49m\u001b[43mdata\u001b[49m\u001b[43m,\u001b[49m\u001b[43m \u001b[49m\u001b[43mindex\u001b[49m\u001b[38;5;241;43m=\u001b[39;49m\u001b[43mcolumns\u001b[49m\u001b[43m,\u001b[49m\u001b[43m \u001b[49m\u001b[43mdtype\u001b[49m\u001b[38;5;241;43m=\u001b[39;49m\u001b[38;5;28;43mobject\u001b[39;49m\u001b[43m)\u001b[49m\n\u001b[1;32m    444\u001b[0m     missing \u001b[38;5;241m=\u001b[39m arrays\u001b[38;5;241m.\u001b[39misna()\n\u001b[1;32m    445\u001b[0m     \u001b[38;5;28;01mif\u001b[39;00m index \u001b[38;5;129;01mis\u001b[39;00m \u001b[38;5;28;01mNone\u001b[39;00m:\n\u001b[1;32m    446\u001b[0m         \u001b[38;5;66;03m# GH10856\u001b[39;00m\n\u001b[1;32m    447\u001b[0m         \u001b[38;5;66;03m# raise ValueError if only scalars in dict\u001b[39;00m\n",
      "File \u001b[0;32m/opt/homebrew/anaconda3/envs/BAIM/lib/python3.11/site-packages/pandas/core/series.py:436\u001b[0m, in \u001b[0;36mSeries.__init__\u001b[0;34m(self, data, index, dtype, name, copy, fastpath)\u001b[0m\n\u001b[1;32m    434\u001b[0m     data \u001b[38;5;241m=\u001b[39m data\u001b[38;5;241m.\u001b[39m_mgr\n\u001b[1;32m    435\u001b[0m \u001b[38;5;28;01melif\u001b[39;00m is_dict_like(data):\n\u001b[0;32m--> 436\u001b[0m     data, index \u001b[38;5;241m=\u001b[39m \u001b[38;5;28;43mself\u001b[39;49m\u001b[38;5;241;43m.\u001b[39;49m\u001b[43m_init_dict\u001b[49m\u001b[43m(\u001b[49m\u001b[43mdata\u001b[49m\u001b[43m,\u001b[49m\u001b[43m \u001b[49m\u001b[43mindex\u001b[49m\u001b[43m,\u001b[49m\u001b[43m \u001b[49m\u001b[43mdtype\u001b[49m\u001b[43m)\u001b[49m\n\u001b[1;32m    437\u001b[0m     dtype \u001b[38;5;241m=\u001b[39m \u001b[38;5;28;01mNone\u001b[39;00m\n\u001b[1;32m    438\u001b[0m     copy \u001b[38;5;241m=\u001b[39m \u001b[38;5;28;01mFalse\u001b[39;00m\n",
      "File \u001b[0;32m/opt/homebrew/anaconda3/envs/BAIM/lib/python3.11/site-packages/pandas/core/series.py:529\u001b[0m, in \u001b[0;36mSeries._init_dict\u001b[0;34m(self, data, index, dtype)\u001b[0m\n\u001b[1;32m    524\u001b[0m     keys, values \u001b[38;5;241m=\u001b[39m (), []\n\u001b[1;32m    526\u001b[0m \u001b[38;5;66;03m# Input is now list-like, so rely on \"standard\" construction:\u001b[39;00m\n\u001b[1;32m    527\u001b[0m \n\u001b[1;32m    528\u001b[0m \u001b[38;5;66;03m# TODO: passing np.float64 to not break anything yet. See GH-17261\u001b[39;00m\n\u001b[0;32m--> 529\u001b[0m s \u001b[38;5;241m=\u001b[39m \u001b[43mcreate_series_with_explicit_dtype\u001b[49m\u001b[43m(\u001b[49m\n\u001b[1;32m    530\u001b[0m \u001b[43m    \u001b[49m\u001b[38;5;66;43;03m# error: Argument \"index\" to \"create_series_with_explicit_dtype\" has\u001b[39;49;00m\n\u001b[1;32m    531\u001b[0m \u001b[43m    \u001b[49m\u001b[38;5;66;43;03m# incompatible type \"Tuple[Any, ...]\"; expected \"Union[ExtensionArray,\u001b[39;49;00m\n\u001b[1;32m    532\u001b[0m \u001b[43m    \u001b[49m\u001b[38;5;66;43;03m# ndarray, Index, None]\"\u001b[39;49;00m\n\u001b[1;32m    533\u001b[0m \u001b[43m    \u001b[49m\u001b[43mvalues\u001b[49m\u001b[43m,\u001b[49m\n\u001b[1;32m    534\u001b[0m \u001b[43m    \u001b[49m\u001b[43mindex\u001b[49m\u001b[38;5;241;43m=\u001b[39;49m\u001b[43mkeys\u001b[49m\u001b[43m,\u001b[49m\u001b[43m  \u001b[49m\u001b[38;5;66;43;03m# type: ignore[arg-type]\u001b[39;49;00m\n\u001b[1;32m    535\u001b[0m \u001b[43m    \u001b[49m\u001b[43mdtype\u001b[49m\u001b[38;5;241;43m=\u001b[39;49m\u001b[43mdtype\u001b[49m\u001b[43m,\u001b[49m\n\u001b[1;32m    536\u001b[0m \u001b[43m    \u001b[49m\u001b[43mdtype_if_empty\u001b[49m\u001b[38;5;241;43m=\u001b[39;49m\u001b[43mnp\u001b[49m\u001b[38;5;241;43m.\u001b[39;49m\u001b[43mfloat64\u001b[49m\u001b[43m,\u001b[49m\n\u001b[1;32m    537\u001b[0m \u001b[43m\u001b[49m\u001b[43m)\u001b[49m\n\u001b[1;32m    539\u001b[0m \u001b[38;5;66;03m# Now we just make sure the order is respected, if any\u001b[39;00m\n\u001b[1;32m    540\u001b[0m \u001b[38;5;28;01mif\u001b[39;00m data \u001b[38;5;129;01mand\u001b[39;00m index \u001b[38;5;129;01mis\u001b[39;00m \u001b[38;5;129;01mnot\u001b[39;00m \u001b[38;5;28;01mNone\u001b[39;00m:\n",
      "File \u001b[0;32m/opt/homebrew/anaconda3/envs/BAIM/lib/python3.11/site-packages/pandas/core/construction.py:915\u001b[0m, in \u001b[0;36mcreate_series_with_explicit_dtype\u001b[0;34m(data, index, dtype, name, copy, fastpath, dtype_if_empty)\u001b[0m\n\u001b[1;32m    913\u001b[0m \u001b[38;5;28;01mif\u001b[39;00m is_empty_data(data) \u001b[38;5;129;01mand\u001b[39;00m dtype \u001b[38;5;129;01mis\u001b[39;00m \u001b[38;5;28;01mNone\u001b[39;00m:\n\u001b[1;32m    914\u001b[0m     dtype \u001b[38;5;241m=\u001b[39m dtype_if_empty\n\u001b[0;32m--> 915\u001b[0m \u001b[38;5;28;01mreturn\u001b[39;00m \u001b[43mSeries\u001b[49m\u001b[43m(\u001b[49m\n\u001b[1;32m    916\u001b[0m \u001b[43m    \u001b[49m\u001b[43mdata\u001b[49m\u001b[38;5;241;43m=\u001b[39;49m\u001b[43mdata\u001b[49m\u001b[43m,\u001b[49m\u001b[43m \u001b[49m\u001b[43mindex\u001b[49m\u001b[38;5;241;43m=\u001b[39;49m\u001b[43mindex\u001b[49m\u001b[43m,\u001b[49m\u001b[43m \u001b[49m\u001b[43mdtype\u001b[49m\u001b[38;5;241;43m=\u001b[39;49m\u001b[43mdtype\u001b[49m\u001b[43m,\u001b[49m\u001b[43m \u001b[49m\u001b[43mname\u001b[49m\u001b[38;5;241;43m=\u001b[39;49m\u001b[43mname\u001b[49m\u001b[43m,\u001b[49m\u001b[43m \u001b[49m\u001b[43mcopy\u001b[49m\u001b[38;5;241;43m=\u001b[39;49m\u001b[43mcopy\u001b[49m\u001b[43m,\u001b[49m\u001b[43m \u001b[49m\u001b[43mfastpath\u001b[49m\u001b[38;5;241;43m=\u001b[39;49m\u001b[43mfastpath\u001b[49m\n\u001b[1;32m    917\u001b[0m \u001b[43m\u001b[49m\u001b[43m)\u001b[49m\n",
      "File \u001b[0;32m/opt/homebrew/anaconda3/envs/BAIM/lib/python3.11/site-packages/pandas/core/series.py:399\u001b[0m, in \u001b[0;36mSeries.__init__\u001b[0;34m(self, data, index, dtype, name, copy, fastpath)\u001b[0m\n\u001b[1;32m    395\u001b[0m     \u001b[38;5;66;03m# uncomment the line below when removing the FutureWarning\u001b[39;00m\n\u001b[1;32m    396\u001b[0m     \u001b[38;5;66;03m# dtype = np.dtype(object)\u001b[39;00m\n\u001b[1;32m    398\u001b[0m \u001b[38;5;28;01mif\u001b[39;00m index \u001b[38;5;129;01mis\u001b[39;00m \u001b[38;5;129;01mnot\u001b[39;00m \u001b[38;5;28;01mNone\u001b[39;00m:\n\u001b[0;32m--> 399\u001b[0m     index \u001b[38;5;241m=\u001b[39m \u001b[43mensure_index\u001b[49m\u001b[43m(\u001b[49m\u001b[43mindex\u001b[49m\u001b[43m)\u001b[49m\n\u001b[1;32m    401\u001b[0m \u001b[38;5;28;01mif\u001b[39;00m data \u001b[38;5;129;01mis\u001b[39;00m \u001b[38;5;28;01mNone\u001b[39;00m:\n\u001b[1;32m    402\u001b[0m     data \u001b[38;5;241m=\u001b[39m {}\n",
      "File \u001b[0;32m/opt/homebrew/anaconda3/envs/BAIM/lib/python3.11/site-packages/pandas/core/indexes/base.py:7333\u001b[0m, in \u001b[0;36mensure_index\u001b[0;34m(index_like, copy)\u001b[0m\n\u001b[1;32m   7331\u001b[0m         \u001b[38;5;28;01mreturn\u001b[39;00m Index\u001b[38;5;241m.\u001b[39m_with_infer(index_like, copy\u001b[38;5;241m=\u001b[39mcopy, tupleize_cols\u001b[38;5;241m=\u001b[39m\u001b[38;5;28;01mFalse\u001b[39;00m)\n\u001b[1;32m   7332\u001b[0m \u001b[38;5;28;01melse\u001b[39;00m:\n\u001b[0;32m-> 7333\u001b[0m     \u001b[38;5;28;01mreturn\u001b[39;00m \u001b[43mIndex\u001b[49m\u001b[38;5;241;43m.\u001b[39;49m\u001b[43m_with_infer\u001b[49m\u001b[43m(\u001b[49m\u001b[43mindex_like\u001b[49m\u001b[43m,\u001b[49m\u001b[43m \u001b[49m\u001b[43mcopy\u001b[49m\u001b[38;5;241;43m=\u001b[39;49m\u001b[43mcopy\u001b[49m\u001b[43m)\u001b[49m\n",
      "File \u001b[0;32m/opt/homebrew/anaconda3/envs/BAIM/lib/python3.11/site-packages/pandas/core/indexes/base.py:716\u001b[0m, in \u001b[0;36mIndex._with_infer\u001b[0;34m(cls, *args, **kwargs)\u001b[0m\n\u001b[1;32m    714\u001b[0m \u001b[38;5;28;01mwith\u001b[39;00m warnings\u001b[38;5;241m.\u001b[39mcatch_warnings():\n\u001b[1;32m    715\u001b[0m     warnings\u001b[38;5;241m.\u001b[39mfilterwarnings(\u001b[38;5;124m\"\u001b[39m\u001b[38;5;124mignore\u001b[39m\u001b[38;5;124m\"\u001b[39m, \u001b[38;5;124m\"\u001b[39m\u001b[38;5;124m.*the Index constructor\u001b[39m\u001b[38;5;124m\"\u001b[39m, \u001b[38;5;167;01mFutureWarning\u001b[39;00m)\n\u001b[0;32m--> 716\u001b[0m     result \u001b[38;5;241m=\u001b[39m \u001b[38;5;28;43mcls\u001b[39;49m\u001b[43m(\u001b[49m\u001b[38;5;241;43m*\u001b[39;49m\u001b[43margs\u001b[49m\u001b[43m,\u001b[49m\u001b[43m \u001b[49m\u001b[38;5;241;43m*\u001b[39;49m\u001b[38;5;241;43m*\u001b[39;49m\u001b[43mkwargs\u001b[49m\u001b[43m)\u001b[49m\n\u001b[1;32m    718\u001b[0m \u001b[38;5;28;01mif\u001b[39;00m result\u001b[38;5;241m.\u001b[39mdtype \u001b[38;5;241m==\u001b[39m _dtype_obj \u001b[38;5;129;01mand\u001b[39;00m \u001b[38;5;129;01mnot\u001b[39;00m result\u001b[38;5;241m.\u001b[39m_is_multi:\n\u001b[1;32m    719\u001b[0m     \u001b[38;5;66;03m# error: Argument 1 to \"maybe_convert_objects\" has incompatible type\u001b[39;00m\n\u001b[1;32m    720\u001b[0m     \u001b[38;5;66;03m# \"Union[ExtensionArray, ndarray[Any, Any]]\"; expected\u001b[39;00m\n\u001b[1;32m    721\u001b[0m     \u001b[38;5;66;03m# \"ndarray[Any, Any]\"\u001b[39;00m\n\u001b[1;32m    722\u001b[0m     values \u001b[38;5;241m=\u001b[39m lib\u001b[38;5;241m.\u001b[39mmaybe_convert_objects(result\u001b[38;5;241m.\u001b[39m_values)  \u001b[38;5;66;03m# type: ignore[arg-type]\u001b[39;00m\n",
      "File \u001b[0;32m/opt/homebrew/anaconda3/envs/BAIM/lib/python3.11/site-packages/pandas/core/indexes/base.py:572\u001b[0m, in \u001b[0;36mIndex.__new__\u001b[0;34m(cls, data, dtype, copy, name, tupleize_cols, **kwargs)\u001b[0m\n\u001b[1;32m    568\u001b[0m     subarr \u001b[38;5;241m=\u001b[39m _maybe_cast_data_without_dtype(\n\u001b[1;32m    569\u001b[0m         subarr, cast_numeric_deprecated\u001b[38;5;241m=\u001b[39m\u001b[38;5;28;01mFalse\u001b[39;00m\n\u001b[1;32m    570\u001b[0m     )\n\u001b[1;32m    571\u001b[0m     dtype \u001b[38;5;241m=\u001b[39m subarr\u001b[38;5;241m.\u001b[39mdtype\n\u001b[0;32m--> 572\u001b[0m \u001b[38;5;28;01mreturn\u001b[39;00m \u001b[43mIndex\u001b[49m\u001b[43m(\u001b[49m\u001b[43msubarr\u001b[49m\u001b[43m,\u001b[49m\u001b[43m \u001b[49m\u001b[43mdtype\u001b[49m\u001b[38;5;241;43m=\u001b[39;49m\u001b[43mdtype\u001b[49m\u001b[43m,\u001b[49m\u001b[43m \u001b[49m\u001b[43mcopy\u001b[49m\u001b[38;5;241;43m=\u001b[39;49m\u001b[43mcopy\u001b[49m\u001b[43m,\u001b[49m\u001b[43m \u001b[49m\u001b[43mname\u001b[49m\u001b[38;5;241;43m=\u001b[39;49m\u001b[43mname\u001b[49m\u001b[43m,\u001b[49m\u001b[43m \u001b[49m\u001b[38;5;241;43m*\u001b[39;49m\u001b[38;5;241;43m*\u001b[39;49m\u001b[43mkwargs\u001b[49m\u001b[43m)\u001b[49m\n",
      "File \u001b[0;32m/opt/homebrew/anaconda3/envs/BAIM/lib/python3.11/site-packages/pandas/core/indexes/base.py:516\u001b[0m, in \u001b[0;36mIndex.__new__\u001b[0;34m(cls, data, dtype, copy, name, tupleize_cols, **kwargs)\u001b[0m\n\u001b[1;32m    508\u001b[0m     data \u001b[38;5;241m=\u001b[39m data\u001b[38;5;241m.\u001b[39m_values\n\u001b[1;32m    510\u001b[0m \u001b[38;5;28;01mif\u001b[39;00m dtype \u001b[38;5;129;01mis\u001b[39;00m \u001b[38;5;129;01mnot\u001b[39;00m \u001b[38;5;28;01mNone\u001b[39;00m:\n\u001b[1;32m    511\u001b[0m     \u001b[38;5;66;03m# we need to avoid having numpy coerce\u001b[39;00m\n\u001b[1;32m    512\u001b[0m     \u001b[38;5;66;03m# things that look like ints/floats to ints unless\u001b[39;00m\n\u001b[1;32m    513\u001b[0m     \u001b[38;5;66;03m# they are actually ints, e.g. '0' and 0.0\u001b[39;00m\n\u001b[1;32m    514\u001b[0m     \u001b[38;5;66;03m# should not be coerced\u001b[39;00m\n\u001b[1;32m    515\u001b[0m     \u001b[38;5;66;03m# GH 11836\u001b[39;00m\n\u001b[0;32m--> 516\u001b[0m     data \u001b[38;5;241m=\u001b[39m \u001b[43msanitize_array\u001b[49m\u001b[43m(\u001b[49m\u001b[43mdata\u001b[49m\u001b[43m,\u001b[49m\u001b[43m \u001b[49m\u001b[38;5;28;43;01mNone\u001b[39;49;00m\u001b[43m,\u001b[49m\u001b[43m \u001b[49m\u001b[43mdtype\u001b[49m\u001b[38;5;241;43m=\u001b[39;49m\u001b[43mdtype\u001b[49m\u001b[43m,\u001b[49m\u001b[43m \u001b[49m\u001b[43mcopy\u001b[49m\u001b[38;5;241;43m=\u001b[39;49m\u001b[43mcopy\u001b[49m\u001b[43m)\u001b[49m\n\u001b[1;32m    518\u001b[0m     dtype \u001b[38;5;241m=\u001b[39m data\u001b[38;5;241m.\u001b[39mdtype\n\u001b[1;32m    520\u001b[0m \u001b[38;5;28;01mif\u001b[39;00m data\u001b[38;5;241m.\u001b[39mdtype\u001b[38;5;241m.\u001b[39mkind \u001b[38;5;129;01min\u001b[39;00m [\u001b[38;5;124m\"\u001b[39m\u001b[38;5;124mi\u001b[39m\u001b[38;5;124m\"\u001b[39m, \u001b[38;5;124m\"\u001b[39m\u001b[38;5;124mu\u001b[39m\u001b[38;5;124m\"\u001b[39m, \u001b[38;5;124m\"\u001b[39m\u001b[38;5;124mf\u001b[39m\u001b[38;5;124m\"\u001b[39m]:\n\u001b[1;32m    521\u001b[0m     \u001b[38;5;66;03m# maybe coerce to a sub-class\u001b[39;00m\n",
      "File \u001b[0;32m/opt/homebrew/anaconda3/envs/BAIM/lib/python3.11/site-packages/pandas/core/construction.py:534\u001b[0m, in \u001b[0;36msanitize_array\u001b[0;34m(data, index, dtype, copy, raise_cast_failure, allow_2d)\u001b[0m\n\u001b[1;32m    531\u001b[0m     dtype \u001b[38;5;241m=\u001b[39m dtype\u001b[38;5;241m.\u001b[39mnumpy_dtype\n\u001b[1;32m    533\u001b[0m \u001b[38;5;66;03m# extract ndarray or ExtensionArray, ensure we have no PandasArray\u001b[39;00m\n\u001b[0;32m--> 534\u001b[0m data \u001b[38;5;241m=\u001b[39m \u001b[43mextract_array\u001b[49m\u001b[43m(\u001b[49m\u001b[43mdata\u001b[49m\u001b[43m,\u001b[49m\u001b[43m \u001b[49m\u001b[43mextract_numpy\u001b[49m\u001b[38;5;241;43m=\u001b[39;49m\u001b[38;5;28;43;01mTrue\u001b[39;49;00m\u001b[43m,\u001b[49m\u001b[43m \u001b[49m\u001b[43mextract_range\u001b[49m\u001b[38;5;241;43m=\u001b[39;49m\u001b[38;5;28;43;01mTrue\u001b[39;49;00m\u001b[43m)\u001b[49m\n\u001b[1;32m    536\u001b[0m \u001b[38;5;28;01mif\u001b[39;00m \u001b[38;5;28misinstance\u001b[39m(data, np\u001b[38;5;241m.\u001b[39mndarray) \u001b[38;5;129;01mand\u001b[39;00m data\u001b[38;5;241m.\u001b[39mndim \u001b[38;5;241m==\u001b[39m \u001b[38;5;241m0\u001b[39m:\n\u001b[1;32m    537\u001b[0m     \u001b[38;5;28;01mif\u001b[39;00m dtype \u001b[38;5;129;01mis\u001b[39;00m \u001b[38;5;28;01mNone\u001b[39;00m:\n",
      "File \u001b[0;32m/opt/homebrew/anaconda3/envs/BAIM/lib/python3.11/site-packages/pandas/core/construction.py:444\u001b[0m, in \u001b[0;36mextract_array\u001b[0;34m(obj, extract_numpy, extract_range)\u001b[0m\n\u001b[1;32m    399\u001b[0m \u001b[38;5;28;01mdef\u001b[39;00m \u001b[38;5;21mextract_array\u001b[39m(\n\u001b[1;32m    400\u001b[0m     obj: T, extract_numpy: \u001b[38;5;28mbool\u001b[39m \u001b[38;5;241m=\u001b[39m \u001b[38;5;28;01mFalse\u001b[39;00m, extract_range: \u001b[38;5;28mbool\u001b[39m \u001b[38;5;241m=\u001b[39m \u001b[38;5;28;01mFalse\u001b[39;00m\n\u001b[1;32m    401\u001b[0m ) \u001b[38;5;241m-\u001b[39m\u001b[38;5;241m>\u001b[39m T \u001b[38;5;241m|\u001b[39m ArrayLike:\n\u001b[1;32m    402\u001b[0m \u001b[38;5;250m    \u001b[39m\u001b[38;5;124;03m\"\"\"\u001b[39;00m\n\u001b[1;32m    403\u001b[0m \u001b[38;5;124;03m    Extract the ndarray or ExtensionArray from a Series or Index.\u001b[39;00m\n\u001b[1;32m    404\u001b[0m \n\u001b[0;32m   (...)\u001b[0m\n\u001b[1;32m    442\u001b[0m \u001b[38;5;124;03m    array([1, 2, 3])\u001b[39;00m\n\u001b[1;32m    443\u001b[0m \u001b[38;5;124;03m    \"\"\"\u001b[39;00m\n\u001b[0;32m--> 444\u001b[0m     \u001b[38;5;28;01mif\u001b[39;00m \u001b[38;5;28misinstance\u001b[39m(obj, (ABCIndex, ABCSeries)):\n\u001b[1;32m    445\u001b[0m         \u001b[38;5;28;01mif\u001b[39;00m \u001b[38;5;28misinstance\u001b[39m(obj, ABCRangeIndex):\n\u001b[1;32m    446\u001b[0m             \u001b[38;5;28;01mif\u001b[39;00m extract_range:\n",
      "File \u001b[0;32m/opt/homebrew/anaconda3/envs/BAIM/lib/python3.11/site-packages/pandas/core/dtypes/generic.py:47\u001b[0m, in \u001b[0;36mcreate_pandas_abc_type.<locals>._instancecheck\u001b[0;34m(cls, inst)\u001b[0m\n\u001b[1;32m     45\u001b[0m \u001b[38;5;129m@classmethod\u001b[39m  \u001b[38;5;66;03m# type: ignore[misc]\u001b[39;00m\n\u001b[1;32m     46\u001b[0m \u001b[38;5;28;01mdef\u001b[39;00m \u001b[38;5;21m_instancecheck\u001b[39m(\u001b[38;5;28mcls\u001b[39m, inst) \u001b[38;5;241m-\u001b[39m\u001b[38;5;241m>\u001b[39m \u001b[38;5;28mbool\u001b[39m:\n\u001b[0;32m---> 47\u001b[0m     \u001b[38;5;28;01mreturn\u001b[39;00m \u001b[43m_check\u001b[49m\u001b[43m(\u001b[49m\u001b[43minst\u001b[49m\u001b[43m)\u001b[49m \u001b[38;5;129;01mand\u001b[39;00m \u001b[38;5;129;01mnot\u001b[39;00m \u001b[38;5;28misinstance\u001b[39m(inst, \u001b[38;5;28mtype\u001b[39m)\n",
      "File \u001b[0;32m/opt/homebrew/anaconda3/envs/BAIM/lib/python3.11/site-packages/pandas/core/dtypes/generic.py:41\u001b[0m, in \u001b[0;36mcreate_pandas_abc_type.<locals>._check\u001b[0;34m(inst)\u001b[0m\n\u001b[1;32m     40\u001b[0m \u001b[38;5;28;01mdef\u001b[39;00m \u001b[38;5;21m_check\u001b[39m(inst):\n\u001b[0;32m---> 41\u001b[0m     \u001b[38;5;28;01mreturn\u001b[39;00m \u001b[38;5;28;43mgetattr\u001b[39;49m\u001b[43m(\u001b[49m\u001b[43minst\u001b[49m\u001b[43m,\u001b[49m\u001b[43m \u001b[49m\u001b[43mattr\u001b[49m\u001b[43m,\u001b[49m\u001b[43m \u001b[49m\u001b[38;5;124;43m\"\u001b[39;49m\u001b[38;5;124;43m_typ\u001b[39;49m\u001b[38;5;124;43m\"\u001b[39;49m\u001b[43m)\u001b[49m\u001b[43m \u001b[49m\u001b[38;5;129;43;01min\u001b[39;49;00m\u001b[43m \u001b[49m\u001b[43mcomp\u001b[49m\n",
      "\u001b[0;31mRecursionError\u001b[0m: maximum recursion depth exceeded in comparison"
     ]
    }
   ],
   "source": [
    "# this is a 1.5 point hidden test\n",
    "\n",
    "### BEGIN HIDDEN TESTS\n",
    "import pandas as pd\n",
    "df = pd.read_csv(\"sales.csv\")\n",
    "df2 = bonus_workers(df)\n",
    "assert 8294 in df2[df2[\"bonus\"]][\"sales_rep_id_number\"].to_list()\n",
    "assert 9787 in df2[df2[\"bonus\"]][\"sales_rep_id_number\"].to_list()\n",
    "assert 9785 not in df2[df2[\"bonus\"]][\"sales_rep_id_number\"].to_list()\n",
    "### END HIDDEN TESTS"
   ]
  }
 ],
 "metadata": {
  "colab": {
   "provenance": []
  },
  "kernelspec": {
   "display_name": "Python 3 (ipykernel)",
   "language": "python",
   "name": "python3"
  },
  "language_info": {
   "codemirror_mode": {
    "name": "ipython",
    "version": 3
   },
   "file_extension": ".py",
   "mimetype": "text/x-python",
   "name": "python",
   "nbconvert_exporter": "python",
   "pygments_lexer": "ipython3",
   "version": "3.11.0"
  }
 },
 "nbformat": 4,
 "nbformat_minor": 5
}
