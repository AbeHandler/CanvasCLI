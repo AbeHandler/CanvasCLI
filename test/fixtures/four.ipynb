{
 "cells": [
  {
   "cell_type": "markdown",
   "id": "2b557fe4",
   "metadata": {
    "id": "2b557fe4"
   },
   "source": [
    "---"
   ]
  },
  {
   "cell_type": "markdown",
   "id": "d5ffcac8-26c5-415d-8129-8536ca58897b",
   "metadata": {
    "id": "d5ffcac8-26c5-415d-8129-8536ca58897b"
   },
   "source": [
    "# Notebook Four \n",
    "\n",
    "#### Python skills\n",
    " - [Lists](https://automatetheboringstuff.com/chapter4/)\n",
    " \n",
    "#### Instructions (important!)\n",
    "\n",
    "- To make grading more transparent and consistent, each function below lists how many points it is worth.\n",
    "- Your notebook **must** run from start to finish without errors. If your notebook hits errors, your assignment may not be graded. You can find instructions on how to make sure your notebook runs without errors [here](https://docs.google.com/document/d/1Siu7kG0X_bG5bkr9OkN6mpnL17cXL91StPgR4vGRxgY/edit?usp=sharing)\n",
    "- For this notebook, you will need to delete all of the lines that say `NotImplementedError`\n",
    "- You should turn in your .ipynb file to Canvas. Please don't turn in another format like HTML or PDF. You can read instructions on how to upload an ipynb [here](https://docs.google.com/document/d/1oG4HSsaSEX9jdW1iBjunR8JmfA-sgWvA-AkPYt-1wSk/edit?usp=sharing)\n",
    "- Please enter your code where it says \"#YOUR CODE HERE\"\n",
    "- Please then delete the line that says \"#YOUR CODE HERE\" (once you add your code).\n",
    "- You will need to [upload a csv file](https://docs.google.com/document/d/1f1DQI_QUQId4x8fFQQ59cdenAZWWq9eK6HMyYchdpQM/edit?usp=sharing) to collab to complete this exercise.\n",
    "\n",
    "### Frontier Airlines business logic\n",
    "\n",
    "Frontier airlines boarding groups [document](https://www.flyfrontier.com/travel/travel-info/airport-info/?mobile=true) lists four groups (see \"Here's who boards our planes first\"). Based on these four groups, you can divide passengers into two groups. A `boards_first` group and a`regular_boarding` group, where those in the `boards_first` board first.\n",
    "\n",
    "In this exercise, you will run a boarding simulation. [Simutation](https://en.wikipedia.org/wiki/Simulation) is a powerful comptuational technique for learning about the real world by representing it in a computer. In this homework, you will simulate a boarding process by reading in a list of passengers arriving (via a file) and make a boarding list. Your list will need to reflect the Frontier Airlines boarding order.\n",
    "\n",
    "You should assume that every passenger in the `boards_first` group boards before every passenger in the `regular_boarding` group. You should assume that **within each group**, passengers board in the order they first arrive.\n",
    "\n",
    "###### Deliverables:\n",
    "- Your goal is to read in a list of arriving customers and put them in a list in correct order."
   ]
  },
  {
   "cell_type": "markdown",
   "id": "78b7d262-64ec-4fd6-9507-adfa2288ab0c",
   "metadata": {
    "id": "78b7d262-64ec-4fd6-9507-adfa2288ab0c"
   },
   "source": [
    "#### Read in from a file \n",
    "\n",
    "- Start off by reading in the file `passengers.jsonl` to simulate passenger arrivals\n",
    "- Code for this is provided for you\n",
    "- If you are curious, read more about json lines (jsonl) [here](https://jsonlines.org/)"
   ]
  },
  {
   "cell_type": "code",
   "execution_count": 1,
   "id": "246ac9f0-c90f-4f77-a7b1-c5dd819e3932",
   "metadata": {
    "deletable": false,
    "editable": false,
    "execution": {
     "iopub.execute_input": "2023-02-14T15:33:03.433522Z",
     "iopub.status.busy": "2023-02-14T15:33:03.433184Z",
     "iopub.status.idle": "2023-02-14T15:33:03.446179Z",
     "shell.execute_reply": "2023-02-14T15:33:03.445694Z"
    },
    "executionInfo": {
     "elapsed": 95,
     "status": "ok",
     "timestamp": 1676349014625,
     "user": {
      "displayName": "student",
      "userId": "99999999999999999999"
     },
     "user_tz": 420
    },
    "id": "246ac9f0-c90f-4f77-a7b1-c5dd819e3932",
    "nbgrader": {
     "cell_type": "code",
     "checksum": "708ddd00140c4383e0ef6286e6c818a2",
     "grade": false,
     "grade_id": "cell-e38bb54353867a62",
     "locked": true,
     "schema_version": 3,
     "solution": false,
     "task": false
    },
    "tags": []
   },
   "outputs": [],
   "source": [
    "import csv\n",
    "import json\n",
    "import datetime\n",
    "from typing import List\n",
    "\n",
    "# notice the type hints in the function signature below (str and List[dict])\n",
    "# notice also that the input format is a .jsonl file. A jsonl file is just a list of dictionaries, one per line\n",
    "\n",
    "def simulate_passenger_arrival(filename: str =\"passengers.jsonl\") -> List[dict]:\n",
    "    '''\n",
    "    Read in a list of passengers arriving \n",
    "    '''\n",
    "    output = []\n",
    "    with open(filename, \"r\") as inf:\n",
    "        for line in inf: # loop over each line in the file\n",
    "            passenger = json.loads(line)\n",
    "            output.append(passenger)\n",
    "\n",
    "    # return the output list\n",
    "    return output "
   ]
  },
  {
   "cell_type": "code",
   "execution_count": 2,
   "id": "316b3e26-16a4-4e12-8fc5-2fb6b6090735",
   "metadata": {
    "execution": {
     "iopub.execute_input": "2023-02-14T15:33:03.450395Z",
     "iopub.status.busy": "2023-02-14T15:33:03.450012Z",
     "iopub.status.idle": "2023-02-14T15:33:03.455451Z",
     "shell.execute_reply": "2023-02-14T15:33:03.454507Z"
    },
    "executionInfo": {
     "elapsed": 8,
     "status": "ok",
     "timestamp": 1676349014820,
     "user": {
      "displayName": "student",
      "userId": "99999999999999999999"
     },
     "user_tz": 420
    },
    "id": "316b3e26-16a4-4e12-8fc5-2fb6b6090735"
   },
   "outputs": [],
   "source": [
    "# This should look familiar to HW 3 but there are subtle differences (hint: jsonl)\n",
    "# It would be a good idea to compare the file read code from this HW to HW 3\n",
    "passengers = simulate_passenger_arrival()"
   ]
  },
  {
   "cell_type": "code",
   "execution_count": 3,
   "id": "kIu6QJsL8rPv",
   "metadata": {
    "colab": {
     "base_uri": "https://localhost:8080/"
    },
    "execution": {
     "iopub.execute_input": "2023-02-14T15:33:03.460085Z",
     "iopub.status.busy": "2023-02-14T15:33:03.459868Z",
     "iopub.status.idle": "2023-02-14T15:33:03.469589Z",
     "shell.execute_reply": "2023-02-14T15:33:03.468523Z"
    },
    "executionInfo": {
     "elapsed": 8,
     "status": "ok",
     "timestamp": 1676349014821,
     "user": {
      "displayName": "student",
      "userId": "99999999999999999999"
     },
     "user_tz": 420
    },
    "id": "kIu6QJsL8rPv",
    "outputId": "a62c91a1-8e5e-4dc8-febf-79696c116ed2"
   },
   "outputs": [
    {
     "data": {
      "text/plain": [
       "[{'name': 'Martha Tejada', 'boarding': 'Special Services'},\n",
       " {'name': 'Valerie Mccallum', 'boarding': 'Regular boarding'},\n",
       " {'name': 'Antonio Thomas', 'boarding': 'Zone 1 Boarding'},\n",
       " {'name': 'James Bouy', 'boarding': 'Regular boarding'},\n",
       " {'name': 'Frank Gardiner', 'boarding': 'Courtesy Boarding'},\n",
       " {'name': 'William Millhouse', 'boarding': 'Regular boarding'},\n",
       " {'name': 'Lula Taveras', 'boarding': 'Regular boarding'},\n",
       " {'name': 'Sammie Lecompte', 'boarding': 'Regular boarding'},\n",
       " {'name': 'Jeffrey Russell', 'boarding': 'Regular boarding'},\n",
       " {'name': 'John Hess', 'boarding': 'Board First'}]"
      ]
     },
     "execution_count": 3,
     "metadata": {},
     "output_type": "execute_result"
    }
   ],
   "source": [
    "passengers"
   ]
  },
  {
   "cell_type": "markdown",
   "id": "9a1ed780-fd2a-4bd2-9d7b-2a8a1ab5d70c",
   "metadata": {
    "id": "9a1ed780-fd2a-4bd2-9d7b-2a8a1ab5d70c"
   },
   "source": [
    "### Examine the passenger list\n",
    "\n",
    "- You can assume the passenger list represents the passengers in the order they arrive at the airport\n",
    "- So the first passenger in the list arrives first, the second passenger arrives second ...\n",
    "- How each passenger represented?"
   ]
  },
  {
   "cell_type": "code",
   "execution_count": 4,
   "id": "0ea21b49-dc24-4092-b446-67c7a73747a6",
   "metadata": {
    "colab": {
     "base_uri": "https://localhost:8080/"
    },
    "execution": {
     "iopub.execute_input": "2023-02-14T15:33:03.474008Z",
     "iopub.status.busy": "2023-02-14T15:33:03.473516Z",
     "iopub.status.idle": "2023-02-14T15:33:03.480232Z",
     "shell.execute_reply": "2023-02-14T15:33:03.479298Z"
    },
    "executionInfo": {
     "elapsed": 6,
     "status": "ok",
     "timestamp": 1676349014821,
     "user": {
      "displayName": "student",
      "userId": "99999999999999999999"
     },
     "user_tz": 420
    },
    "id": "0ea21b49-dc24-4092-b446-67c7a73747a6",
    "outputId": "5c7ec8e1-9ee8-43d3-b953-54c6480863ab"
   },
   "outputs": [
    {
     "data": {
      "text/plain": [
       "{'name': 'Martha Tejada', 'boarding': 'Special Services'}"
      ]
     },
     "execution_count": 4,
     "metadata": {},
     "output_type": "execute_result"
    }
   ],
   "source": [
    "passengers[0]"
   ]
  },
  {
   "cell_type": "markdown",
   "id": "e7ef8236-d380-41fd-9f75-faae5edefc07",
   "metadata": {
    "id": "e7ef8236-d380-41fd-9f75-faae5edefc07"
   },
   "source": [
    "Start off by filling out the `check_board_first` function. The function should indicate if a passenger board the plane first. Unlike previous HWs, its up to you to figure out how to fill out the function from the data and business logic. Use the type hints `: dict` and `-> bool` to help you. And use an if statment (or the `==` operator)."
   ]
  },
  {
   "cell_type": "code",
   "execution_count": 5,
   "id": "118c6077-7e62-4716-923f-b605ed154292",
   "metadata": {
    "deletable": false,
    "execution": {
     "iopub.execute_input": "2023-02-14T15:33:03.529110Z",
     "iopub.status.busy": "2023-02-14T15:33:03.527942Z",
     "iopub.status.idle": "2023-02-14T15:33:03.533596Z",
     "shell.execute_reply": "2023-02-14T15:33:03.532901Z"
    },
    "executionInfo": {
     "elapsed": 4,
     "status": "ok",
     "timestamp": 1676349014821,
     "user": {
      "displayName": "student",
      "userId": "99999999999999999999"
     },
     "user_tz": 420
    },
    "id": "118c6077-7e62-4716-923f-b605ed154292",
    "nbgrader": {
     "cell_type": "code",
     "checksum": "553f0c8f1d94f2766a48d60a3cad6f91",
     "grade": false,
     "grade_id": "cell-837176e011952c2e",
     "locked": false,
     "schema_version": 3,
     "solution": true,
     "task": false
    },
    "tags": []
   },
   "outputs": [],
   "source": [
    "# Please do not delete this cell\n",
    "# fill out the `boards_first` function below\n",
    "\n",
    "def check_board_first(passenger: dict) -> bool:\n",
    "    '''This function is worth 7 points'''\n",
    "    if passenger['boarding'] != \"Regular boarding\":\n",
    "      return True\n",
    "    else:\n",
    "      return False\n",
    "            \n",
    "        #if passenger[\"boarding\"] != \"Regular boarding\":  this code is to print the cust \n",
    "          #print(passenger)\n",
    "for passenger in passengers:\n",
    "  check_board_first(passenger)"
   ]
  },
  {
   "cell_type": "code",
   "execution_count": null,
   "id": "jZdq_uUA-EVH",
   "metadata": {
    "executionInfo": {
     "elapsed": 4,
     "status": "ok",
     "timestamp": 1676349014821,
     "user": {
      "displayName": "student",
      "userId": "99999999999999999999"
     },
     "user_tz": 420
    },
    "id": "jZdq_uUA-EVH"
   },
   "outputs": [],
   "source": []
  },
  {
   "cell_type": "code",
   "execution_count": 6,
   "id": "51f94c5c-f834-4dcf-87be-1b2461ae4843",
   "metadata": {
    "deletable": false,
    "editable": false,
    "execution": {
     "iopub.execute_input": "2023-02-14T15:33:03.537797Z",
     "iopub.status.busy": "2023-02-14T15:33:03.537529Z",
     "iopub.status.idle": "2023-02-14T15:33:03.541988Z",
     "shell.execute_reply": "2023-02-14T15:33:03.541325Z"
    },
    "executionInfo": {
     "elapsed": 4,
     "status": "ok",
     "timestamp": 1676349014821,
     "user": {
      "displayName": "student",
      "userId": "99999999999999999999"
     },
     "user_tz": 420
    },
    "id": "51f94c5c-f834-4dcf-87be-1b2461ae4843",
    "nbgrader": {
     "cell_type": "code",
     "checksum": "10b7e42e7fedc08cf5194be41a081210",
     "grade": true,
     "grade_id": "cell-9a3bafa3db108d4e",
     "locked": true,
     "points": 7,
     "schema_version": 3,
     "solution": false,
     "task": false
    },
    "tags": []
   },
   "outputs": [],
   "source": [
    "# Please do not delete this cell\n",
    "\n",
    "### BEGIN HIDDEN TESTS\n",
    "\n",
    "passenger1 = {'name': 'Raymond Betz', 'boarding': 'Regular boarding'}\n",
    "assert not check_board_first(passenger1), \"This passenger does not board first\"\n",
    "\n",
    "passenger2 = {'name': 'Lucille Hottinger', 'boarding': 'Courtesy Boarding'}\n",
    "assert check_board_first(passenger2), \"This passenger does board first\"\n",
    "\n",
    "### END HIDDEN TESTS"
   ]
  },
  {
   "cell_type": "code",
   "execution_count": 7,
   "id": "a3424dc5-5e7f-4f38-97c8-24bfadb07621",
   "metadata": {
    "deletable": false,
    "execution": {
     "iopub.execute_input": "2023-02-14T15:33:03.546357Z",
     "iopub.status.busy": "2023-02-14T15:33:03.546107Z",
     "iopub.status.idle": "2023-02-14T15:33:03.552479Z",
     "shell.execute_reply": "2023-02-14T15:33:03.551574Z"
    },
    "executionInfo": {
     "elapsed": 127,
     "status": "ok",
     "timestamp": 1676349014944,
     "user": {
      "displayName": "student",
      "userId": "99999999999999999999"
     },
     "user_tz": 420
    },
    "id": "a3424dc5-5e7f-4f38-97c8-24bfadb07621",
    "nbgrader": {
     "cell_type": "code",
     "checksum": "d84d81ca56a0cfd1205068b215a29308",
     "grade": false,
     "grade_id": "cell-48b0e1d99355ae82",
     "locked": false,
     "schema_version": 3,
     "solution": true,
     "task": false
    },
    "tags": []
   },
   "outputs": [],
   "source": [
    "\n",
    "def simulate_boarding(passengers: List[dict]):\n",
    "    '''\n",
    "    - This function is worth 2 points\n",
    "    - Simulate the boarding process for an airplane\n",
    "    - You should take a list of passengers as input\n",
    "    - You can assume that the input lists reflects the order in which \n",
    "      passengers arrive\n",
    "    - You should return a list of passengers as output, which reflects the \n",
    "      airline boarding order\n",
    "    - you should use your `check_board_first` function\n",
    "    - You are welcome to implement this in any way that matches the business logic\n",
    "    - However, a hint is provided for you on one way to do this\n",
    "    - The hint uses list concatenation\n",
    "        - Read more on that here: https://automatetheboringstuff.com/chapter4/\n",
    "    '''\n",
    "    \n",
    "    # this line declares a variable called output\n",
    "    # the type of the variable is a List of dictionaries\n",
    "    output: List[dict] = []\n",
    "    \n",
    "    # this line declares a variable called boards_first\n",
    "    # the type of the variable is a List of dictionaries\n",
    "    boards_first: List[dict] = []\n",
    "    \n",
    "    # this line declares a variable called boards_second\n",
    "    # the type of the variable is a List of dictionaries\n",
    "    regular_boarding: List[dict] = []  \n",
    "\n",
    "    for passenger in passengers:\n",
    "        # YOUR CODE HERE\n",
    "         if check_board_first(passenger) == True:\n",
    "          boards_first.append(passenger)\n",
    "          output.append(passenger)\n",
    "         elif check_board_first(passenger) == False:\n",
    "          regular_boarding.append(passenger)\n",
    "          output.append(passenger)\n",
    "\n",
    "    \n",
    "    \n",
    "    return boards_first + regular_boarding"
   ]
  },
  {
   "cell_type": "code",
   "execution_count": 8,
   "id": "7875794b-629e-4826-8731-2e7d7fb1cdd9",
   "metadata": {
    "colab": {
     "base_uri": "https://localhost:8080/"
    },
    "deletable": false,
    "editable": false,
    "execution": {
     "iopub.execute_input": "2023-02-14T15:33:03.556309Z",
     "iopub.status.busy": "2023-02-14T15:33:03.555989Z",
     "iopub.status.idle": "2023-02-14T15:33:03.560771Z",
     "shell.execute_reply": "2023-02-14T15:33:03.560227Z"
    },
    "executionInfo": {
     "elapsed": 3,
     "status": "ok",
     "timestamp": 1676349014944,
     "user": {
      "displayName": "student",
      "userId": "99999999999999999999"
     },
     "user_tz": 420
    },
    "id": "7875794b-629e-4826-8731-2e7d7fb1cdd9",
    "nbgrader": {
     "cell_type": "code",
     "checksum": "330cd5a4c4cad1905cffde449c616064",
     "grade": true,
     "grade_id": "cell-0ec48e0218e75400",
     "locked": true,
     "points": 2,
     "schema_version": 3,
     "solution": false,
     "task": false
    },
    "outputId": "4fbb5831-4243-400c-b724-0ab65eb2a9ac",
    "tags": []
   },
   "outputs": [],
   "source": [
    "# do not delete this cell\n",
    "\n",
    "### BEGIN HIDDEN TESTS\n",
    "\n",
    "passengers = simulate_passenger_arrival()\n",
    "boarding_order = simulate_boarding(passengers)\n",
    "\n",
    "# find a point in the list where \n",
    "# you split between regular and priority boarding\n",
    "# count up to regular board ... \n",
    "counter = 0\n",
    "for passenger in boarding_order:\n",
    "    if passenger[\"boarding\"] != \"Regular boarding\":\n",
    "        break\n",
    "    else:\n",
    "        counter += 1\n",
    "    assert all(i[\"boarding\"] != \"Regular boarding\" for i in boarding_order[0:counter]) \n",
    "    assert all(i[\"boarding\"] == \"Regular boarding\" for i in boarding_order[counter:])\n",
    "### END HIDDEN TESTS"
   ]
  },
  {
   "cell_type": "markdown",
   "id": "5f376ad6-8626-47bb-bfa3-203ac1c38b3a",
   "metadata": {
    "id": "5f376ad6-8626-47bb-bfa3-203ac1c38b3a",
    "nbgrader": {
     "grade": false,
     "locked": false,
     "points": 2.5,
     "schema_version": 3,
     "solution": false,
     "task": false
    },
    "tags": []
   },
   "source": [
    "### Challenge problem \n",
    "\n",
    "- This is a challenge problem worth 1 point\n",
    "- The challenge problem is a little harder\n",
    "- If you get all points on the HW, then getting the challenge problem right will mean a 10/10 (i.e. an A) as opposed to 9/10  (i.e., an A-)"
   ]
  },
  {
   "cell_type": "code",
   "execution_count": 9,
   "id": "9588b067-3f64-4d34-96e2-9d261ad89cd6",
   "metadata": {
    "deletable": false,
    "execution": {
     "iopub.execute_input": "2023-02-14T15:33:03.564155Z",
     "iopub.status.busy": "2023-02-14T15:33:03.564019Z",
     "iopub.status.idle": "2023-02-14T15:33:03.567543Z",
     "shell.execute_reply": "2023-02-14T15:33:03.566446Z"
    },
    "executionInfo": {
     "elapsed": 2,
     "status": "ok",
     "timestamp": 1676349014944,
     "user": {
      "displayName": "student",
      "userId": "99999999999999999999"
     },
     "user_tz": 420
    },
    "id": "9588b067-3f64-4d34-96e2-9d261ad89cd6",
    "nbgrader": {
     "cell_type": "code",
     "checksum": "63624afd1831628dbade9484badda3a5",
     "grade": false,
     "grade_id": "cell-38380e7b177c5910",
     "locked": false,
     "schema_version": 3,
     "solution": true,
     "task": false
    },
    "tags": []
   },
   "outputs": [],
   "source": [
    "from typing import List\n",
    "def before(passengerA: dict, passengerB: dict, arriving_passengers: List[dict]) -> bool:\n",
    "    '''\n",
    "    Inputs: \n",
    "    - Passenger A, a passenger dictionary\n",
    "    - Passenger B, a passenger dictionary\n",
    "    - arriving_passengers, a list of passengers **in the order they arrive**\n",
    "    \n",
    "    Outputs:\n",
    "    - True if passenger A boards before passenger B\n",
    "    \n",
    "    Hint: use the other functions in this HW\n",
    "    '''\n",
    "    \n",
    "    # YOUR CODE HERE\n",
    "    raise NotImplementedError()"
   ]
  },
  {
   "cell_type": "code",
   "execution_count": 10,
   "id": "05e6ee9c-6b92-4ac7-bde2-749974e1a1ba",
   "metadata": {
    "deletable": false,
    "editable": false,
    "execution": {
     "iopub.execute_input": "2023-02-14T15:33:03.571166Z",
     "iopub.status.busy": "2023-02-14T15:33:03.570979Z",
     "iopub.status.idle": "2023-02-14T15:33:03.656880Z",
     "shell.execute_reply": "2023-02-14T15:33:03.655856Z"
    },
    "executionInfo": {
     "elapsed": 3,
     "status": "ok",
     "timestamp": 1676349014945,
     "user": {
      "displayName": "student",
      "userId": "99999999999999999999"
     },
     "user_tz": 420
    },
    "id": "05e6ee9c-6b92-4ac7-bde2-749974e1a1ba",
    "nbgrader": {
     "cell_type": "code",
     "checksum": "b924340d8f358154f541c1cb130eeb8b",
     "grade": true,
     "grade_id": "cell-236162e5be7731bd",
     "locked": true,
     "points": 1,
     "schema_version": 3,
     "solution": false,
     "task": false
    },
    "tags": []
   },
   "outputs": [
    {
     "ename": "NotImplementedError",
     "evalue": "",
     "output_type": "error",
     "traceback": [
      "\u001b[0;31m---------------------------------------------------------------------------\u001b[0m",
      "\u001b[0;31mNotImplementedError\u001b[0m                       Traceback (most recent call last)",
      "Cell \u001b[0;32mIn[10], line 11\u001b[0m\n\u001b[1;32m      9\u001b[0m     \u001b[38;5;28;01mfor\u001b[39;00m other_passenger \u001b[38;5;129;01min\u001b[39;00m boarding_order[passenger_number:]:\n\u001b[1;32m     10\u001b[0m         \u001b[38;5;28;01mif\u001b[39;00m passenger[\u001b[38;5;124m\"\u001b[39m\u001b[38;5;124mname\u001b[39m\u001b[38;5;124m\"\u001b[39m] \u001b[38;5;241m!=\u001b[39m other_passenger[\u001b[38;5;124m\"\u001b[39m\u001b[38;5;124mname\u001b[39m\u001b[38;5;124m\"\u001b[39m]:\n\u001b[0;32m---> 11\u001b[0m             \u001b[38;5;28;01massert\u001b[39;00m \u001b[43mbefore\u001b[49m\u001b[43m(\u001b[49m\u001b[43mpassenger\u001b[49m\u001b[43m,\u001b[49m\u001b[43m \u001b[49m\u001b[43mother_passenger\u001b[49m\u001b[43m,\u001b[49m\u001b[43m \u001b[49m\u001b[43mpassengers\u001b[49m\u001b[43m)\u001b[49m\n\u001b[1;32m     12\u001b[0m             \u001b[38;5;28;01massert\u001b[39;00m \u001b[38;5;129;01mnot\u001b[39;00m before(other_passenger, passenger, passengers)\n\u001b[1;32m     13\u001b[0m \u001b[38;5;66;03m### END HIDDEN TESTS\u001b[39;00m\n",
      "Cell \u001b[0;32mIn[9], line 16\u001b[0m, in \u001b[0;36mbefore\u001b[0;34m(passengerA, passengerB, arriving_passengers)\u001b[0m\n\u001b[1;32m      3\u001b[0m \u001b[38;5;250m\u001b[39m\u001b[38;5;124;03m'''\u001b[39;00m\n\u001b[1;32m      4\u001b[0m \u001b[38;5;124;03mInputs: \u001b[39;00m\n\u001b[1;32m      5\u001b[0m \u001b[38;5;124;03m- Passenger A, a passenger dictionary\u001b[39;00m\n\u001b[0;32m   (...)\u001b[0m\n\u001b[1;32m     12\u001b[0m \u001b[38;5;124;03mHint: use the other functions in this HW\u001b[39;00m\n\u001b[1;32m     13\u001b[0m \u001b[38;5;124;03m'''\u001b[39;00m\n\u001b[1;32m     15\u001b[0m \u001b[38;5;66;03m# YOUR CODE HERE\u001b[39;00m\n\u001b[0;32m---> 16\u001b[0m \u001b[38;5;28;01mraise\u001b[39;00m \u001b[38;5;167;01mNotImplementedError\u001b[39;00m()\n",
      "\u001b[0;31mNotImplementedError\u001b[0m: "
     ]
    }
   ],
   "source": [
    "# Please do not delete this cell\n",
    "\n",
    "### BEGIN HIDDEN TESTS\n",
    "\n",
    "passengers = simulate_passenger_arrival()\n",
    "boarding_order = simulate_boarding(passengers)\n",
    "\n",
    "for passenger_number, passenger in enumerate(boarding_order):\n",
    "    for other_passenger in boarding_order[passenger_number:]:\n",
    "        if passenger[\"name\"] != other_passenger[\"name\"]:\n",
    "            assert before(passenger, other_passenger, passengers)\n",
    "            assert not before(other_passenger, passenger, passengers)\n",
    "### END HIDDEN TESTS\n"
   ]
  },
  {
   "cell_type": "code",
   "execution_count": null,
   "id": "67eddbb9-306a-4b04-bfd0-5de367da9ab7",
   "metadata": {
    "executionInfo": {
     "elapsed": 3,
     "status": "ok",
     "timestamp": 1676349014945,
     "user": {
      "displayName": "student",
      "userId": "99999999999999999999"
     },
     "user_tz": 420
    },
    "id": "67eddbb9-306a-4b04-bfd0-5de367da9ab7"
   },
   "outputs": [],
   "source": []
  }
 ],
 "metadata": {
  "colab": {
   "provenance": []
  },
  "kernelspec": {
   "display_name": "Python 3 (ipykernel)",
   "language": "python",
   "name": "python3"
  },
  "language_info": {
   "codemirror_mode": {
    "name": "ipython",
    "version": 3
   },
   "file_extension": ".py",
   "mimetype": "text/x-python",
   "name": "python",
   "nbconvert_exporter": "python",
   "pygments_lexer": "ipython3",
   "version": "3.11.0"
  }
 },
 "nbformat": 4,
 "nbformat_minor": 5
}
